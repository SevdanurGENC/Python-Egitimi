{
 "cells": [
  {
   "cell_type": "markdown",
   "metadata": {
    "colab_type": "text",
    "id": "2BfTgNJxj4l_"
   },
   "source": [
    "# If/Else Conditions\n",
    "\n",
    "if \"condition\":\n",
    "\n",
    "\n",
    "> \"do something\"  \n",
    "\n",
    "\n",
    "print()"
   ]
  },
  {
   "cell_type": "code",
   "execution_count": null,
   "metadata": {
    "colab": {
     "base_uri": "https://localhost:8080/",
     "height": 52
    },
    "colab_type": "code",
    "id": "LXqRwY8TkEt4",
    "outputId": "82c99f74-5bf5-45a6-c9fd-a90c8c213ad7"
   },
   "outputs": [],
   "source": [
    "num = int(input(\"Enter a number: \"))\n",
    "\n",
    "if num < 0:  \n",
    "  num *= -1  #num= num*-1\n",
    "\n",
    "print(\"Result is: \", num)"
   ]
  },
  {
   "cell_type": "markdown",
   "metadata": {
    "colab_type": "text",
    "id": "kBKf25lKyDbS"
   },
   "source": [
    "#If-Else\n",
    "\n",
    "if \"condition\":\n",
    "\n",
    "\n",
    "> \"birşey yap\" <koşul doğru ise çalışacak durumlar>\n",
    "\n",
    "else:\n",
    "\n",
    "\n",
    "\n",
    "> \"başka birşey yap\" <koşul doğru değilse çalışacak durumlar>\n",
    "\n",
    "\n",
    "\n",
    "print()"
   ]
  },
  {
   "cell_type": "code",
   "execution_count": null,
   "metadata": {
    "colab": {
     "base_uri": "https://localhost:8080/",
     "height": 132
    },
    "colab_type": "code",
    "id": "uero0zQKmGKt",
    "outputId": "0f94368e-43bb-4e64-e237-a77c2781ab3f"
   },
   "outputs": [],
   "source": [
    "course = \"python\"\n",
    "\n",
    "s = input(\"Lütfen bir harf giriniz: \")\n",
    "\n",
    "if s in course:\n",
    "  print(\"Mevcut!\")\n",
    "else:\n",
    "  print(\"Yok...\")"
   ]
  },
  {
   "cell_type": "markdown",
   "metadata": {
    "colab_type": "text",
    "id": "2sRlaG6I4h-Y"
   },
   "source": [
    "# If-Elif-Else\n",
    "\n",
    "if \"koşul\":\n",
    "\n",
    "\n",
    "> \"birşey yap\"  <koşul doğru ise çalışacak durumlar>\n",
    "\n",
    "elif \"koşul2\":\n",
    "\n",
    "\n",
    "\n",
    "> \"başka birşey yap\"  <koşul doğru ise çalışacak durumlar>\n",
    "\n",
    "elif \"koşul3\":\n",
    "\n",
    "\n",
    "\n",
    "> \"başka birşey yap\" <koşul doğru ise çalışacak durumlar>\n",
    "\n",
    "\n",
    "\n",
    "\n",
    "\n",
    "else:\n",
    "\n",
    "\n",
    "\n",
    "> \"farklı birşey yap\" <yukarıdaki koşullar doğru değilse çalışacak durumlar>\n",
    "\n",
    "\n",
    "\n",
    "print()"
   ]
  },
  {
   "cell_type": "code",
   "execution_count": null,
   "metadata": {
    "colab": {
     "base_uri": "https://localhost:8080/",
     "height": 52
    },
    "colab_type": "code",
    "id": "rLCMo9Kuxe4Y",
    "outputId": "1a47bb85-7acf-4d8d-9e2a-836d08ed9a44"
   },
   "outputs": [],
   "source": [
    "score = int(input(\"Lütfen sınav puanınızı giriniz: \"))\n",
    "\n",
    "if score <= 40:\n",
    "  print(\"Kötü, çok çalışmalısın..\")\n",
    "elif score <= 60:\n",
    "  print(\"Orta, biraz daha çalışmalısın.\")\n",
    "elif score <= 100:\n",
    "  print(\"Tebrikler, iyi bir not aldın!\")\n",
    "else:\n",
    "  print(\"Geçersiz ifade girdiniz!!!\")\n",
    "\n"
   ]
  },
  {
   "cell_type": "code",
   "execution_count": null,
   "metadata": {
    "colab": {
     "base_uri": "https://localhost:8080/",
     "height": 35
    },
    "colab_type": "code",
    "id": "O0r1rOWX8-F6",
    "outputId": "9c4acd92-6ad4-4340-cbc3-60e0bfcce3f8"
   },
   "outputs": [],
   "source": [
    "x = 5\n",
    "\n",
    "if x > 4:\n",
    "  x = x+1\n",
    "elif x > 5:\n",
    "  x = x+2\n",
    "elif x > 7:\n",
    "  x = x+3\n",
    "\n",
    "print (\"x in değeri, \", x)"
   ]
  },
  {
   "cell_type": "code",
   "execution_count": null,
   "metadata": {
    "colab": {
     "base_uri": "https://localhost:8080/",
     "height": 35
    },
    "colab_type": "code",
    "id": "d_JbM3Yz-Mxq",
    "outputId": "5f7f2017-37b4-40ce-8652-5b9fa81e633b"
   },
   "outputs": [],
   "source": [
    "x = 5\n",
    "\n",
    "if x > 4:\n",
    "  x = x+1 \n",
    "\n",
    "  if x > 5:\n",
    "    x = x+2\n",
    "\n",
    "    if x > 7:\n",
    "        x = x+3\n",
    "\n",
    "print (\"x in değeri, \", x)"
   ]
  },
  {
   "cell_type": "markdown",
   "metadata": {
    "colab_type": "text",
    "id": "gDwccPO2_c0R"
   },
   "source": [
    "# Soru\n",
    "\n",
    "Bir şirkette, çalışanların maaşları aşağıdaki formül kullanılarak hesaplanarak aşamalı olarak artırılır:\n",
    "\n",
    "maaş = maaş + maaş x (artış yüzdesi)\n",
    "\n",
    "Artışlar, işçinin mevcut maaşına göre aşağıda belirtildiği gibi önceden tanımlanmıştır. Örneğin işçinin cari maaşı 1000 TL veya daha az ise maaşı% 15 artırılır.\n",
    "\n",
    "\n",
    "Aralık | Yüzdesi\n",
    "--- | ---\n",
    "0 < maaş ≤ 1000 | 15%\n",
    "1000 < maaş ≤ 2000 |10%\n",
    "2000 < maaş ≤ 3000| 5%\n",
    "3000 < maaş | 2.5%\n",
    "\n",
    "\n",
    "Kullanıcıdan maaşını girmesini isteyen bir program yazın. Ardından programınız, kullanıcının artan maaşını hesaplamalı ve yazdırmalıdır.\n",
    "\n",
    "Örnek Çıktılar:\n",
    "\n",
    "Lütfen mevcut maaşınızı girin: 1000\n",
    "\n",
    "Yeni maaşınız 1150.0.\n",
    "\n",
    "Lütfen mevcut maaşınızı girin: 2500\n",
    "\n",
    "Yeni maaşınız 2625.0."
   ]
  },
  {
   "cell_type": "markdown",
   "metadata": {
    "colab_type": "text",
    "id": "Po9n8VAwAimY"
   },
   "source": [
    "# Cevap"
   ]
  },
  {
   "cell_type": "markdown",
   "metadata": {
    "colab_type": "text",
    "id": "ECbPU-yVAgwR"
   },
   "source": []
  },
  {
   "cell_type": "code",
   "execution_count": null,
   "metadata": {
    "colab": {
     "base_uri": "https://localhost:8080/",
     "height": 52
    },
    "colab_type": "code",
    "id": "uLq_XcOJDv4_",
    "outputId": "5ca0a2d8-0259-476d-be9a-d60408e7d16d"
   },
   "outputs": [],
   "source": [
    "maas = float(input(\"Lütfen mevcut maaşınızı giriniz: \"))\n",
    "\n",
    "if maas < 0:\n",
    "  print(\"Geçersiz değer\")\n",
    "else:\n",
    "\n",
    "  if 0 < maas <= 1000:\n",
    "    maas = maas + maas * 0.15\n",
    "  elif maas <= 2000:\n",
    "    maas = maas + maas * 0.1\n",
    "  elif maas <= 3000:\n",
    "    maas = maas + maas * 0.05\n",
    "  else:\n",
    "    maas = maas + maas * 0.025\n",
    "\n",
    "  print(\"Yeni maaşınız\", maas)"
   ]
  },
  {
   "cell_type": "markdown",
   "metadata": {
    "colab_type": "text",
    "id": "alFtTZs0FyXs"
   },
   "source": [
    "# While Döngü Yapısı\n",
    "\n",
    "Koşul başlangıcı\n",
    "\n",
    "while <koşul>:\n",
    "\n",
    "\n",
    "\n",
    "> <doğru ifade>\n",
    "\n",
    "> <doğru ifade>\n",
    "\n",
    "> koşul güncelleme\n",
    "\n",
    "\n",
    "Bir mantıksal şart mantıksal doğru değerine sahip olduğu sürece tekrarlanır. Döngünün sona ermesi için o şartın yanlış duruma gelmesi gerekir.Bunun için döngünün içinde değişkenler uygun şekilde güncellenir. \n",
    "\n",
    "\n",
    "\n",
    "  "
   ]
  },
  {
   "cell_type": "code",
   "execution_count": null,
   "metadata": {
    "colab": {
     "base_uri": "https://localhost:8080/",
     "height": 177
    },
    "colab_type": "code",
    "id": "t2hN1ADgUKdI",
    "outputId": "b3f24ea4-0247-41f9-c16f-cc86fdf380c6"
   },
   "outputs": [],
   "source": [
    "sayi = 0\n",
    "\n",
    "while sayi < 9:\n",
    "  print(\"Sayının değeri:\", sayi)\n",
    "  sayi = sayi +1\n"
   ]
  },
  {
   "cell_type": "code",
   "execution_count": null,
   "metadata": {},
   "outputs": [],
   "source": [
    "print(sayi)"
   ]
  },
  {
   "cell_type": "code",
   "execution_count": null,
   "metadata": {
    "colab": {},
    "colab_type": "code",
    "id": "YAM4s0m7ViEA"
   },
   "outputs": [],
   "source": [
    "sayi2 = 0\n",
    "\n",
    "while sayi2 != 9:\n",
    "  print(\"Sayının değeri:\", sayi2)\n",
    "  sayi2 +=2\n",
    "\n",
    "#sonsuz döngü, infinite loop"
   ]
  },
  {
   "cell_type": "code",
   "execution_count": null,
   "metadata": {
    "colab": {
     "base_uri": "https://localhost:8080/",
     "height": 141
    },
    "colab_type": "code",
    "id": "2UmFwW5FWEkd",
    "outputId": "f95075a7-4047-4e12-e654-b3367df55c0a"
   },
   "outputs": [],
   "source": [
    "sayi3 = int(input(\"Lütfen 1 ve 10 arasında bir sayı giriniz:\"))\n",
    "\n",
    "while sayi3 < 1 or sayi3 > 10:  \n",
    "  print(\"Doğru olmayan bir değer girdiniz!!!!\")\n",
    "  sayi3 = int(input(\"Lütfen 1 ve 10 arasında bir sayı giriniz:\"))\n",
    "print(\"Tebrikler...\") \n"
   ]
  },
  {
   "cell_type": "markdown",
   "metadata": {
    "colab_type": "text",
    "id": "Wxh9hTfQaTXB"
   },
   "source": [
    "## Bir listenin elemanlarını yazdıralım. "
   ]
  },
  {
   "cell_type": "code",
   "execution_count": null,
   "metadata": {
    "colab": {
     "base_uri": "https://localhost:8080/",
     "height": 124
    },
    "colab_type": "code",
    "id": "tOoDBo33Y9O0",
    "outputId": "1a3e0fc8-6f21-49ae-a3c6-69d23f69c019"
   },
   "outputs": [],
   "source": [
    "t = [1,2,3,4,5,6]\n",
    "\n",
    "\n",
    "i = 0\n",
    "while (i < len(t)):\n",
    "  #i+=1\n",
    "  print(i, \". indexteki elemanı: \", t[i])\n",
    "  i+=1"
   ]
  },
  {
   "cell_type": "code",
   "execution_count": null,
   "metadata": {
    "colab": {
     "base_uri": "https://localhost:8080/",
     "height": 88
    },
    "colab_type": "code",
    "id": "pSN-AL8A62bc",
    "outputId": "4b41f3b2-adff-419b-f888-b8790e3549fa"
   },
   "outputs": [],
   "source": [
    "while True:\n",
    "  a = input(\"Bir değer giriniz: \")\n",
    "  if a == \"Exit\":\n",
    "    break"
   ]
  },
  {
   "cell_type": "markdown",
   "metadata": {
    "colab_type": "text",
    "id": "HytO2C2ib-vf"
   },
   "source": [
    "# For Döngü Yapısı\n",
    "\n",
    "\n",
    "for <tekrarlayan değer> in <sıralı dizi>:\n",
    "\n",
    "\n",
    "\n",
    "> <doğru ifade>\n",
    "\n",
    "\n",
    "Liste gibi sıralı bir nesnedeki elemanları sırayla tek tek alır ve döngü içerisinde işler.\n",
    "\n",
    "\n"
   ]
  },
  {
   "cell_type": "code",
   "execution_count": null,
   "metadata": {
    "colab": {
     "base_uri": "https://localhost:8080/",
     "height": 70
    },
    "colab_type": "code",
    "id": "BgahixcjcC_a",
    "outputId": "eb57d5dd-ea82-4e64-dbfd-78f1975c3e6b"
   },
   "outputs": [],
   "source": [
    "for i in [2,45,57]:\n",
    "  print(i)\n",
    "\n"
   ]
  },
  {
   "cell_type": "code",
   "execution_count": null,
   "metadata": {
    "colab": {},
    "colab_type": "code",
    "id": "ZD6pp2A9cglb"
   },
   "outputs": [],
   "source": [
    "for i in range(5):\n",
    "  print(i)"
   ]
  },
  {
   "cell_type": "code",
   "execution_count": null,
   "metadata": {
    "colab": {
     "base_uri": "https://localhost:8080/",
     "height": 230
    },
    "colab_type": "code",
    "id": "sSRS5oGOdr0t",
    "outputId": "b34a4d04-8cc5-4318-a9f3-52dd218cfbac"
   },
   "outputs": [],
   "source": [
    "for i in \"Python Kursu\":\n",
    "  print(i)"
   ]
  },
  {
   "cell_type": "code",
   "execution_count": null,
   "metadata": {
    "colab": {
     "base_uri": "https://localhost:8080/",
     "height": 52
    },
    "colab_type": "code",
    "id": "c8G-3iFNkrH4",
    "outputId": "d855e734-bbf0-46f7-c155-d0b54bd70ef4"
   },
   "outputs": [],
   "source": [
    "for i in \"Python Kursu\".split():\n",
    "  print(i)"
   ]
  },
  {
   "cell_type": "code",
   "execution_count": null,
   "metadata": {
    "colab": {
     "base_uri": "https://localhost:8080/",
     "height": 106
    },
    "colab_type": "code",
    "id": "6Pvl_Pps6fbR",
    "outputId": "3e4efa0a-e2db-45bc-8678-0f023d135a8a"
   },
   "outputs": [],
   "source": [
    "for i in range(10):\n",
    "  if i == 5:    \n",
    "    break\n",
    "  print(i)"
   ]
  },
  {
   "cell_type": "code",
   "execution_count": null,
   "metadata": {
    "colab": {
     "base_uri": "https://localhost:8080/",
     "height": 177
    },
    "colab_type": "code",
    "id": "vTRaCu7N6ife",
    "outputId": "fed997ca-c6fc-4e8c-ba4d-9054a3bb9178"
   },
   "outputs": [],
   "source": [
    "for i in range(10):\n",
    "  if i == 5:\n",
    "    continue\n",
    "  print(i)"
   ]
  },
  {
   "cell_type": "code",
   "execution_count": null,
   "metadata": {
    "colab": {
     "base_uri": "https://localhost:8080/",
     "height": 35
    },
    "colab_type": "code",
    "id": "fZKEer8umXFk",
    "outputId": "386a0f8c-b501-42f5-ed1a-e9eb8151d947"
   },
   "outputs": [],
   "source": [
    "sayilar = list(range(8))\n",
    "\n",
    "kareler = []\n",
    "\n",
    "for i in sayilar:\n",
    "  kareler.append(i**2)\n",
    "print(kareler)"
   ]
  },
  {
   "cell_type": "code",
   "execution_count": null,
   "metadata": {
    "colab": {
     "base_uri": "https://localhost:8080/",
     "height": 35
    },
    "colab_type": "code",
    "id": "fnfkGpJanbCF",
    "outputId": "599faa82-fd86-4f1c-f20e-0a7f509b9f32"
   },
   "outputs": [],
   "source": [
    "sayilar = list(range(8))\n",
    "\n",
    "kareler = [i**2 for i in sayilar]\n",
    "print(kareler)"
   ]
  },
  {
   "cell_type": "code",
   "execution_count": null,
   "metadata": {
    "colab": {
     "base_uri": "https://localhost:8080/",
     "height": 52
    },
    "colab_type": "code",
    "id": "msKp56Y1ozOk",
    "outputId": "b6e0e99f-1151-4d2e-f75e-1cd6b4313083"
   },
   "outputs": [],
   "source": [
    "sayilar = list(range(8))\n",
    "\n",
    "cift_kareler = [i**2\n",
    "                for i in sayilar\n",
    "                if i % 2 == 0]\n",
    "\n",
    "tek_küpler = [i**3\n",
    "               for i in sayilar\n",
    "               if i% 2 == 1]\n",
    "\n",
    "print(cift_kareler)\n",
    "print(tek_küpler)"
   ]
  },
  {
   "cell_type": "code",
   "execution_count": null,
   "metadata": {
    "colab": {
     "base_uri": "https://localhost:8080/",
     "height": 35
    },
    "colab_type": "code",
    "id": "BAIT9kSGrHTn",
    "outputId": "e6b50121-df29-4196-d07d-b3c5de4df535"
   },
   "outputs": [],
   "source": [
    "mylist = [3,5,12,7,65,35]\n",
    "\n",
    "sum = 0\n",
    "\n",
    "for i in mylist:\n",
    "  sum = sum + i    #sum += i\n",
    "print(sum)\n",
    "  #print(sum)\n"
   ]
  },
  {
   "cell_type": "markdown",
   "metadata": {
    "colab_type": "text",
    "id": "sNWHEuYTuGUk"
   },
   "source": [
    "### Listenin en büyük elemanını bulma"
   ]
  },
  {
   "cell_type": "code",
   "execution_count": null,
   "metadata": {
    "colab": {
     "base_uri": "https://localhost:8080/",
     "height": 35
    },
    "colab_type": "code",
    "id": "6MnAca4Ht13-",
    "outputId": "5676296a-aa01-468a-9236-5cb866f0eb28"
   },
   "outputs": [],
   "source": [
    "mylist = [3,5,12,7,65,35]\n",
    "\n",
    "\n",
    "max = mylist[0]\n",
    "\n",
    "for i in mylist:\n",
    "  if i > max:\n",
    "    max = i\n",
    "print(max)"
   ]
  },
  {
   "cell_type": "markdown",
   "metadata": {
    "colab_type": "text",
    "id": "RzvtIqRPwMjJ"
   },
   "source": [
    "### Liste elemanlarını toplama"
   ]
  },
  {
   "cell_type": "code",
   "execution_count": null,
   "metadata": {},
   "outputs": [],
   "source": [
    "list1 = [1,2,3]\n",
    "list2 = [4,5,6]"
   ]
  },
  {
   "cell_type": "code",
   "execution_count": null,
   "metadata": {},
   "outputs": [],
   "source": [
    "list1+list2"
   ]
  },
  {
   "cell_type": "code",
   "execution_count": null,
   "metadata": {
    "colab": {
     "base_uri": "https://localhost:8080/",
     "height": 35
    },
    "colab_type": "code",
    "id": "SkyZxq07vZcv",
    "outputId": "c20dc7f4-59e0-4e4a-9359-152d241ac4aa"
   },
   "outputs": [],
   "source": [
    "list1 = [1,2,3]\n",
    "list2 = [4,5,6]\n",
    "\n",
    "list3 = [a + b \n",
    "         for a,b in zip(list1,list2)]\n",
    "\n",
    "print(list3)"
   ]
  },
  {
   "cell_type": "markdown",
   "metadata": {
    "colab_type": "text",
    "id": "KDoimRfIHeKc"
   },
   "source": [
    "##Soru\n",
    "\n",
    "Kullanıcıdan bir tamsayı değeri (stop_number) giren ve 0'dan stop_number'a kadar tüm sayıların toplamını yazdıran bir program yazın. Kullanıcının geçerli bir değer gireceğini varsayabilirsiniz."
   ]
  },
  {
   "cell_type": "markdown",
   "metadata": {
    "colab_type": "text",
    "id": "iF9iRGVRHzZ3"
   },
   "source": [
    "##Cevap"
   ]
  },
  {
   "cell_type": "code",
   "execution_count": null,
   "metadata": {
    "colab": {},
    "colab_type": "code",
    "id": "oz0YvBT4wQQv"
   },
   "outputs": [],
   "source": []
  },
  {
   "cell_type": "markdown",
   "metadata": {
    "colab_type": "text",
    "id": "n3r7-MzJIQaF"
   },
   "source": [
    "##Soru\n",
    "\n",
    "Programınızı, toplanacak sayıların başlangıç değerini de (start_number) girecek şekilde genişletin. Bu durumda, programınız start_number dan stop_number a kadar tüm sayıları toplayacaktır. Kullanıcının iki geçerli değer gireceğini varsayabilirsiniz."
   ]
  },
  {
   "cell_type": "markdown",
   "metadata": {
    "colab_type": "text",
    "id": "Aum8NWmkJeF8"
   },
   "source": [
    "##Cevap"
   ]
  },
  {
   "cell_type": "code",
   "execution_count": null,
   "metadata": {
    "colab": {},
    "colab_type": "code",
    "id": "wyf3bHGlIl5q"
   },
   "outputs": [],
   "source": []
  },
  {
   "cell_type": "markdown",
   "metadata": {
    "colab_type": "text",
    "id": "5iu8rZn5JLEh"
   },
   "source": [
    "##Soru\n",
    "\n",
    "Programınızı, start_number ı 0 ile 100 arasında bir tamsayı olup olmadığını kontrol edecek şekilde genişletin. Eğer öyleyse, programınız ikinci girdiyi sormaya ve hesaplamaları yapmaya devam edecektir; aksi takdirde, bir hata yazdırır ve yürütmeyi durdurur."
   ]
  },
  {
   "cell_type": "markdown",
   "metadata": {
    "colab_type": "text",
    "id": "L5XVRV4DJhQA"
   },
   "source": [
    "##Cevap"
   ]
  },
  {
   "cell_type": "code",
   "execution_count": null,
   "metadata": {
    "colab": {},
    "colab_type": "code",
    "id": "pbsMWzp_Jb56"
   },
   "outputs": [],
   "source": []
  }
 ],
 "metadata": {
  "colab": {
   "collapsed_sections": [],
   "name": "Day-3.ipynb",
   "provenance": []
  },
  "kernelspec": {
   "display_name": "Python 3",
   "language": "python",
   "name": "python3"
  },
  "language_info": {
   "codemirror_mode": {
    "name": "ipython",
    "version": 3
   },
   "file_extension": ".py",
   "mimetype": "text/x-python",
   "name": "python",
   "nbconvert_exporter": "python",
   "pygments_lexer": "ipython3",
   "version": "3.8.3"
  }
 },
 "nbformat": 4,
 "nbformat_minor": 1
}
