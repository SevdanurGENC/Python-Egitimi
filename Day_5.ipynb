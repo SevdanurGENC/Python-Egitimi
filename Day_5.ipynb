{
  "nbformat": 4,
  "nbformat_minor": 0,
  "metadata": {
    "colab": {
      "name": "Functions.ipynb",
      "provenance": [],
      "collapsed_sections": []
    },
    "kernelspec": {
      "display_name": "Python 3",
      "language": "python",
      "name": "python3"
    },
    "language_info": {
      "codemirror_mode": {
        "name": "ipython",
        "version": 3
      },
      "file_extension": ".py",
      "mimetype": "text/x-python",
      "name": "python",
      "nbconvert_exporter": "python",
      "pygments_lexer": "ipython3",
      "version": "3.7.4"
    }
  },
  "cells": [
    {
      "cell_type": "markdown",
      "metadata": {
        "colab_type": "text",
        "id": "6vddxASQcwOx"
      },
      "source": [
        "# Functions\n",
        "\n",
        "Functions are blocks of code that can be used over and over again to perform a specific action.\n",
        "\n",
        "As we know, in Python, there are print (), len () etc. Many available functions are defined.\n",
        "\n",
        "We can use it in our own code by providing access to functions defined in libraries, modules and packages. These are called predefined functions, embedded functions (built-in) or library functions. We can use ready-made functions as well as create our own functions. (User-defined)\n",
        "\n",
        "\n",
        "Functions prevent code repetition and our code stays more modular and organized.\n",
        "\n",
        "\n",
        "*****\n",
        "\n",
        "def \"function_name\"(parameter1,parameter2,..):\n",
        "\n",
        "\n",
        "> \"Do something\"\n",
        "\n",
        "  return \"return something\"  (depends on functionality) \n",
        "\n",
        "\n"
      ]
    },
    {
      "cell_type": "code",
      "metadata": {
        "colab_type": "code",
        "id": "xmv4r_jCboXC",
        "colab": {}
      },
      "source": [
        "def hello():\n",
        "  print(\"Hello Everyone!!\")"
      ],
      "execution_count": null,
      "outputs": []
    },
    {
      "cell_type": "code",
      "metadata": {
        "colab_type": "code",
        "id": "9WyymUQqgSBQ",
        "colab": {},
        "outputId": "19e2899e-4bb3-4585-b105-fd8073d49c36"
      },
      "source": [
        "hello()#calling the func   #the functions don't have any parameters"
      ],
      "execution_count": null,
      "outputs": [
        {
          "output_type": "stream",
          "text": [
            "Hello Everyone!!\n"
          ],
          "name": "stdout"
        }
      ]
    },
    {
      "cell_type": "code",
      "metadata": {
        "id": "MJ9-t1W-lWiN",
        "colab_type": "code",
        "colab": {},
        "outputId": "f6da7628-4f23-48cf-a07c-2bdcda7dc20d"
      },
      "source": [
        "hello()"
      ],
      "execution_count": null,
      "outputs": [
        {
          "output_type": "stream",
          "text": [
            "Hello Everyone!!\n"
          ],
          "name": "stdout"
        }
      ]
    },
    {
      "cell_type": "code",
      "metadata": {
        "colab_type": "code",
        "id": "0mNT-X0DoP7y",
        "colab": {}
      },
      "source": [
        "def hello(name):\n",
        "  print(\"Hello \" + name)\n"
      ],
      "execution_count": null,
      "outputs": []
    },
    {
      "cell_type": "code",
      "metadata": {
        "colab_type": "code",
        "id": "DxZKzFIuoW08",
        "colab": {},
        "outputId": "3e0d89e3-b547-4c2b-fabe-cac5c11017b0"
      },
      "source": [
        "hello(\"Asli\")"
      ],
      "execution_count": null,
      "outputs": [
        {
          "output_type": "stream",
          "text": [
            "Hello Asli\n"
          ],
          "name": "stdout"
        }
      ]
    },
    {
      "cell_type": "code",
      "metadata": {
        "colab_type": "code",
        "id": "3AoI1i0igZC7",
        "colab": {
          "base_uri": "https://localhost:8080/",
          "height": 70
        },
        "outputId": "96d5c07a-fb7e-4965-b107-d7e3419b4e3d"
      },
      "source": [
        "def func1():\n",
        "  print(\"Hello World!!\")\n",
        "\n",
        "\n",
        "func1()\n",
        "print(\"asddasdasd\")\n",
        "func1()"
      ],
      "execution_count": null,
      "outputs": [
        {
          "output_type": "stream",
          "text": [
            "Hello World!!\n",
            "asddasdasd\n",
            "Hello World!!\n"
          ],
          "name": "stdout"
        }
      ]
    },
    {
      "cell_type": "code",
      "metadata": {
        "colab_type": "code",
        "id": "iiSPTWt3hJHo",
        "colab": {}
      },
      "source": [
        "def summ(a,b):\n",
        "  sum1 = a + b\n",
        "  print(sum1)"
      ],
      "execution_count": null,
      "outputs": []
    },
    {
      "cell_type": "code",
      "metadata": {
        "colab_type": "code",
        "id": "WNgM1TR4haRG",
        "colab": {},
        "outputId": "9c87437f-4f41-4482-90a4-d629a7a691da"
      },
      "source": [
        "summ(6,7)"
      ],
      "execution_count": null,
      "outputs": [
        {
          "output_type": "stream",
          "text": [
            "13\n"
          ],
          "name": "stdout"
        }
      ]
    },
    {
      "cell_type": "code",
      "metadata": {
        "id": "-B6w7TKvlWig",
        "colab_type": "code",
        "colab": {}
      },
      "source": [
        "list1 = [1,2,3,4,5]\n",
        "sum1 = a + b"
      ],
      "execution_count": null,
      "outputs": []
    },
    {
      "cell_type": "code",
      "metadata": {
        "colab_type": "code",
        "id": "MfnQx9FFhd5H",
        "colab": {
          "base_uri": "https://localhost:8080/",
          "height": 52
        },
        "outputId": "ef0339f9-f195-40fb-cad8-a3c231726c26"
      },
      "source": [
        "t = summ(8,9)\n",
        "print(t)"
      ],
      "execution_count": null,
      "outputs": [
        {
          "output_type": "stream",
          "text": [
            "17\n",
            "None\n"
          ],
          "name": "stdout"
        }
      ]
    },
    {
      "cell_type": "code",
      "metadata": {
        "colab_type": "code",
        "id": "NiymGvuihkZ2",
        "colab": {}
      },
      "source": [
        "def func(x,y):\n",
        "  summ = x + y\n",
        "  multip = x * y\n",
        "  return (summ,multip)"
      ],
      "execution_count": null,
      "outputs": []
    },
    {
      "cell_type": "code",
      "metadata": {
        "colab_type": "code",
        "id": "SbtW4TLdh7Pp",
        "colab": {
          "base_uri": "https://localhost:8080/",
          "height": 35
        },
        "outputId": "b2dd6bb7-6769-4d82-96ee-d622de955917"
      },
      "source": [
        "t,c = func(23,45)\n",
        "\n",
        "print(t,c)"
      ],
      "execution_count": null,
      "outputs": [
        {
          "output_type": "stream",
          "text": [
            "68 1035\n"
          ],
          "name": "stdout"
        }
      ]
    },
    {
      "cell_type": "code",
      "metadata": {
        "id": "M9YmyEwwlWir",
        "colab_type": "code",
        "colab": {},
        "outputId": "9738877d-3e22-463a-a13b-1420dc129c87"
      },
      "source": [
        "func(3,5)"
      ],
      "execution_count": null,
      "outputs": [
        {
          "output_type": "execute_result",
          "data": {
            "text/plain": [
              "(8, 15)"
            ]
          },
          "metadata": {
            "tags": []
          },
          "execution_count": 31
        }
      ]
    },
    {
      "cell_type": "code",
      "metadata": {
        "id": "ok5sO2h2lWiv",
        "colab_type": "code",
        "colab": {},
        "outputId": "8a20eb71-91b6-41ac-e680-572d4445346b"
      },
      "source": [
        "x = 5 \n",
        "y = 4\n",
        "x,y = y,x\n",
        "print(x,\"and\",y)"
      ],
      "execution_count": null,
      "outputs": [
        {
          "output_type": "stream",
          "text": [
            "4 and 5\n"
          ],
          "name": "stdout"
        }
      ]
    },
    {
      "cell_type": "code",
      "metadata": {
        "colab_type": "code",
        "id": "Nca_Rpf9iC-x",
        "colab": {},
        "outputId": "3279fb9f-22e7-498f-ecfe-9ad8e9aa1f03"
      },
      "source": [
        "print(\"Sum of the values: \" + str(t) + \", Multiplying of the values: \" + str(c))"
      ],
      "execution_count": null,
      "outputs": [
        {
          "output_type": "stream",
          "text": [
            "Sum of the values: 68, Multiplying of the values: 1035\n"
          ],
          "name": "stdout"
        }
      ]
    },
    {
      "cell_type": "code",
      "metadata": {
        "colab_type": "code",
        "id": "5IS0ARTJiPY1",
        "colab": {}
      },
      "source": [
        "#Let's write a function that it will square the entered number, but will be terminated when you enter the number 5 and give us an error message.\n",
        "\n",
        "def sqr(x):\n",
        "  if x == 5:\n",
        "    return (\"Terminated because you entered 5\")\n",
        "\n",
        "  result = x **2\n",
        "  return (result)\n"
      ],
      "execution_count": null,
      "outputs": []
    },
    {
      "cell_type": "code",
      "metadata": {
        "id": "8TKf40GhlWi4",
        "colab_type": "code",
        "colab": {},
        "outputId": "d8b72360-423e-439d-e46f-5b6dbb06541f"
      },
      "source": [
        "3 ** 4"
      ],
      "execution_count": null,
      "outputs": [
        {
          "output_type": "execute_result",
          "data": {
            "text/plain": [
              "81"
            ]
          },
          "metadata": {
            "tags": []
          },
          "execution_count": 40
        }
      ]
    },
    {
      "cell_type": "code",
      "metadata": {
        "colab_type": "code",
        "id": "w0Am5qkekKNH",
        "colab": {
          "base_uri": "https://localhost:8080/",
          "height": 35
        },
        "outputId": "3a1be730-2c76-47b4-a44f-87f746392359"
      },
      "source": [
        "sqr(10)"
      ],
      "execution_count": null,
      "outputs": [
        {
          "output_type": "execute_result",
          "data": {
            "text/plain": [
              "100"
            ]
          },
          "metadata": {
            "tags": []
          },
          "execution_count": 41
        }
      ]
    },
    {
      "cell_type": "code",
      "metadata": {
        "colab_type": "code",
        "id": "-A1MrkLDkMju",
        "colab": {},
        "outputId": "e0f689a5-e3a0-430a-aa7c-db046e21202b"
      },
      "source": [
        "sqr(5)"
      ],
      "execution_count": null,
      "outputs": [
        {
          "output_type": "execute_result",
          "data": {
            "text/plain": [
              "32"
            ]
          },
          "metadata": {
            "tags": []
          },
          "execution_count": 48
        }
      ]
    },
    {
      "cell_type": "code",
      "metadata": {
        "colab_type": "code",
        "id": "gsu2kbuJnKmx",
        "colab": {},
        "outputId": "cc6940e4-6dc5-4b81-bf49-62ae1a3a6ba4"
      },
      "source": [
        "d = sqr(5)\n",
        "print(d)"
      ],
      "execution_count": null,
      "outputs": [
        {
          "output_type": "stream",
          "text": [
            "hello world\n",
            "25\n"
          ],
          "name": "stdout"
        }
      ]
    },
    {
      "cell_type": "code",
      "metadata": {
        "id": "rvIJalhLlWjF",
        "colab_type": "code",
        "colab": {}
      },
      "source": [
        "def sqr1(x):\n",
        "  if x == 5:\n",
        "    return (len(\"Terminated because you entered 5\"))\n",
        "\n",
        "  result = x **2\n",
        "  return (result)\n"
      ],
      "execution_count": null,
      "outputs": []
    },
    {
      "cell_type": "code",
      "metadata": {
        "id": "d42SXhJtlWjI",
        "colab_type": "code",
        "colab": {},
        "outputId": "5ab157d2-9d7c-4302-81ed-3a016ae1eb79"
      },
      "source": [
        "sqr1(5)"
      ],
      "execution_count": null,
      "outputs": [
        {
          "output_type": "execute_result",
          "data": {
            "text/plain": [
              "32"
            ]
          },
          "metadata": {
            "tags": []
          },
          "execution_count": 52
        }
      ]
    },
    {
      "cell_type": "code",
      "metadata": {
        "colab_type": "code",
        "id": "ewtG6xuRkQsy",
        "colab": {}
      },
      "source": [
        "# Let's write a function that tells you whether the entered number is positive, negative or zero.\n",
        "\n",
        "\n",
        "def func(x):\n",
        "  if x > 0:\n",
        "    return (\"Positive\")\n",
        "  elif x < 0:\n",
        "    return (\"Negative\")\n",
        "  else:\n",
        "    return (\"Zero\")\n",
        "\n"
      ],
      "execution_count": null,
      "outputs": []
    },
    {
      "cell_type": "code",
      "metadata": {
        "colab_type": "code",
        "id": "UQ3T_8UTlJ8u",
        "colab": {},
        "outputId": "458eddef-5e0a-498f-ea94-56be182dfd18"
      },
      "source": [
        "for i in [-2,5,6,0,-4,-7]:\n",
        "  print(func(i))"
      ],
      "execution_count": null,
      "outputs": [
        {
          "output_type": "stream",
          "text": [
            "Negative\n",
            "Positive\n",
            "Positive\n",
            "Zero\n",
            "Negative\n",
            "Negative\n"
          ],
          "name": "stdout"
        }
      ]
    },
    {
      "cell_type": "code",
      "metadata": {
        "colab_type": "code",
        "id": "_gih-r9xlZBr",
        "colab": {}
      },
      "source": [
        "# factorial calculation\n",
        "\n",
        "\n",
        "def factorial(num):\n",
        "  factorial = 1\n",
        "  if (num == 0 or num == 1):\n",
        "    print(\"Factorial: \", factorial)\n",
        "  else:\n",
        "    while (num >= 1):\n",
        "      factorial = factorial * num\n",
        "      num -= 1 \n",
        "    print(\"Factorial: \", factorial)\n",
        "\n",
        "\n"
      ],
      "execution_count": null,
      "outputs": []
    },
    {
      "cell_type": "code",
      "metadata": {
        "id": "sw8EVtqplWjU",
        "colab_type": "code",
        "colab": {},
        "outputId": "af644edb-dab4-4932-f884-a4cc7699555b"
      },
      "source": [
        "factorial(5)"
      ],
      "execution_count": null,
      "outputs": [
        {
          "output_type": "stream",
          "text": [
            "Factorial:  120\n"
          ],
          "name": "stdout"
        }
      ]
    },
    {
      "cell_type": "code",
      "metadata": {
        "id": "nhEq72M9lWjY",
        "colab_type": "code",
        "colab": {}
      },
      "source": [
        "# 5* 4* 3* 2* 1 = 120"
      ],
      "execution_count": null,
      "outputs": []
    },
    {
      "cell_type": "code",
      "metadata": {
        "colab_type": "code",
        "id": "OQBMccOwyhl9",
        "colab": {}
      },
      "source": [
        "#using for loop\n",
        "\n",
        "def factorial2(num2):\n",
        "  factorial2 = 1\n",
        "  if (num2 == 0 or num2 == 1):\n",
        "    print(\"Factorial: \", factorial2)\n",
        "  else:\n",
        "    for i in range(factorial2, num2+1):\n",
        "       factorial2 = factorial2 * i      \n",
        "    print(\"Factorial: \", factorial2)\n"
      ],
      "execution_count": null,
      "outputs": []
    },
    {
      "cell_type": "code",
      "metadata": {
        "colab_type": "code",
        "id": "-b8t6CgSl3Yu",
        "colab": {},
        "outputId": "e44f88da-776b-4849-eb22-e22ff6338ad9"
      },
      "source": [
        "x = factorial2(5)\n",
        "x"
      ],
      "execution_count": null,
      "outputs": [
        {
          "output_type": "stream",
          "text": [
            "Factorial:  120\n"
          ],
          "name": "stdout"
        }
      ]
    },
    {
      "cell_type": "code",
      "metadata": {
        "id": "aHt5OhkKlWjg",
        "colab_type": "code",
        "colab": {},
        "outputId": "cf9025c1-8eb0-4b57-a6c6-cfef1e9252ac"
      },
      "source": [
        "for i in range(0,10):\n",
        "    print(i)"
      ],
      "execution_count": null,
      "outputs": [
        {
          "output_type": "stream",
          "text": [
            "0\n",
            "1\n",
            "2\n",
            "3\n",
            "4\n",
            "5\n",
            "6\n",
            "7\n",
            "8\n",
            "9\n"
          ],
          "name": "stdout"
        }
      ]
    },
    {
      "cell_type": "code",
      "metadata": {
        "colab_type": "code",
        "id": "blFFawxml7wW",
        "colab": {}
      },
      "source": [
        "def factorial3(nums):\n",
        "  factorial3 = 1\n",
        "  if (nums == 0 or nums == 1):\n",
        "    return (\"Factorial: \", factorial3)\n",
        "  else:\n",
        "    for i in range(factorial3, nums+1):\n",
        "       factorial3 *= i      \n",
        "    return (\"Factorial: \", factorial3)"
      ],
      "execution_count": null,
      "outputs": []
    },
    {
      "cell_type": "code",
      "metadata": {
        "colab_type": "code",
        "id": "HVWS7rb9mAIf",
        "colab": {},
        "outputId": "6a782e04-11e1-42c8-ede6-71feac2303d5"
      },
      "source": [
        "x = factorial3(6)\n",
        "print(x)"
      ],
      "execution_count": null,
      "outputs": [
        {
          "output_type": "stream",
          "text": [
            "('Factorial: ', 720)\n"
          ],
          "name": "stdout"
        }
      ]
    },
    {
      "cell_type": "code",
      "metadata": {
        "colab_type": "code",
        "id": "HIUms-AlzQu9",
        "colab": {}
      },
      "source": [
        "def hello2(name, capLetter = False):\n",
        "  if capLetter:\n",
        "    print(\"Hello \" + name.upper())\n",
        "  else:\n",
        "    print(\"Hello \" + name)"
      ],
      "execution_count": null,
      "outputs": []
    },
    {
      "cell_type": "code",
      "metadata": {
        "colab_type": "code",
        "id": "DkHm9Vtw0O4M",
        "colab": {},
        "outputId": "fdf2d059-273c-4154-83a1-cde3e9a5fb53"
      },
      "source": [
        "hello2(\"Asli\")"
      ],
      "execution_count": null,
      "outputs": [
        {
          "output_type": "stream",
          "text": [
            "Hello Asli\n"
          ],
          "name": "stdout"
        }
      ]
    },
    {
      "cell_type": "code",
      "metadata": {
        "colab_type": "code",
        "id": "dYyDrfTn0TOS",
        "colab": {},
        "outputId": "1d59a01a-c60e-4150-d070-56c7d553c545"
      },
      "source": [
        "hello2(\"Asli\", capLetter= True)"
      ],
      "execution_count": null,
      "outputs": [
        {
          "output_type": "stream",
          "text": [
            "Hello ASLI\n"
          ],
          "name": "stdout"
        }
      ]
    },
    {
      "cell_type": "code",
      "metadata": {
        "colab_type": "code",
        "id": "AzJDy8xD1Rbm",
        "colab": {}
      },
      "source": [
        "def multp(*args):\n",
        "  result = 1\n",
        "  for i in args:\n",
        "    result = result * i\n",
        "  print(result) \n",
        "\n",
        "\n",
        "# *args keeps the data as tuple type."
      ],
      "execution_count": null,
      "outputs": []
    },
    {
      "cell_type": "code",
      "metadata": {
        "colab_type": "code",
        "id": "crk-VWf912z_",
        "colab": {
          "base_uri": "https://localhost:8080/",
          "height": 35
        },
        "outputId": "251acfa4-5dcc-44fc-ff37-89e125cab82e"
      },
      "source": [
        "multp(4,5,6,7,8)"
      ],
      "execution_count": null,
      "outputs": [
        {
          "output_type": "stream",
          "text": [
            "6720\n"
          ],
          "name": "stdout"
        }
      ]
    },
    {
      "cell_type": "code",
      "metadata": {
        "colab_type": "code",
        "id": "sp9bJPmu1-lF",
        "colab": {
          "base_uri": "https://localhost:8080/",
          "height": 35
        },
        "outputId": "0aab548b-3a1f-4c19-ddfe-8287e43ee2f6"
      },
      "source": [
        "multp(2,3,4,5)"
      ],
      "execution_count": null,
      "outputs": [
        {
          "output_type": "stream",
          "text": [
            "120\n"
          ],
          "name": "stdout"
        }
      ]
    },
    {
      "cell_type": "code",
      "metadata": {
        "colab_type": "code",
        "id": "M_gEN02J7Z6P",
        "colab": {}
      },
      "source": [
        "def salaryCalc(salary):\n",
        "\n",
        "  if salary < 0:\n",
        "    return(\"Invalid value\")\n",
        "  else:\n",
        "    if 0 < salary <= 1000:\n",
        "      salary = salary + salary * 0.15\n",
        "    elif salary <= 2000:\n",
        "      salary = salary + salary * 0.1\n",
        "    elif salary <= 3000:\n",
        "      salary = salary + salary * 0.05\n",
        "    else:\n",
        "      salary = salary + salary * 0.025\n",
        "\n",
        "    return (\"New salary: \", salary)"
      ],
      "execution_count": null,
      "outputs": []
    },
    {
      "cell_type": "code",
      "metadata": {
        "colab_type": "code",
        "id": "Tp8kE5iH7-_x",
        "colab": {},
        "outputId": "68ab49a1-d100-4ca2-e00f-d8e2e1031cd0"
      },
      "source": [
        "salaryCalc(-5)"
      ],
      "execution_count": null,
      "outputs": [
        {
          "output_type": "execute_result",
          "data": {
            "text/plain": [
              "'Invalid value'"
            ]
          },
          "metadata": {
            "tags": []
          },
          "execution_count": 81
        }
      ]
    },
    {
      "cell_type": "code",
      "metadata": {
        "colab_type": "code",
        "id": "I9BT87fl-Kgr",
        "colab": {}
      },
      "source": [
        "\n",
        "def salaryCalc2():\n",
        "\n",
        "  salary = float(input(\"Please enter your current salary: \"))\n",
        "\n",
        "  if salary < 0:\n",
        "    return(\"Invalid value\")\n",
        "  else:\n",
        "    if 0 < salary <= 1000:\n",
        "      salary = salary + salary * 0.15\n",
        "    elif salary <= 2000:\n",
        "      salary = salary + salary * 0.1\n",
        "    elif salary <= 3000:\n",
        "      salary = salary + salary * 0.05\n",
        "    else:\n",
        "      salary = salary + salary * 0.025\n",
        "\n",
        "    return (\"New salary: \", salary)\n",
        " "
      ],
      "execution_count": null,
      "outputs": []
    },
    {
      "cell_type": "code",
      "metadata": {
        "colab_type": "code",
        "id": "bF1ty6Cc8U_X",
        "colab": {},
        "outputId": "1e6d64b7-aad5-4683-a9dd-fac29e0ab6b2"
      },
      "source": [
        "new_salary = salaryCalc2() \n",
        "print(new_salary)"
      ],
      "execution_count": null,
      "outputs": [
        {
          "output_type": "stream",
          "text": [
            "Please enter your current salary: 800\n",
            "('New salary: ', 920.0)\n"
          ],
          "name": "stdout"
        }
      ]
    },
    {
      "cell_type": "code",
      "metadata": {
        "id": "tDklGeaVlWkM",
        "colab_type": "code",
        "colab": {},
        "outputId": "13ccb1b9-ec40-4008-c855-0eb534f0c74b"
      },
      "source": [
        "def carpma(x,y):\n",
        "    return x * y\n",
        "\n",
        "carpma(3,5)"
      ],
      "execution_count": null,
      "outputs": [
        {
          "output_type": "execute_result",
          "data": {
            "text/plain": [
              "15"
            ]
          },
          "metadata": {
            "tags": []
          },
          "execution_count": 87
        }
      ]
    },
    {
      "cell_type": "code",
      "metadata": {
        "id": "KnNFw7g6lWkO",
        "colab_type": "code",
        "colab": {},
        "outputId": "f4b5a0cf-0876-4085-8609-c6b386787a19"
      },
      "source": [
        "def func_args(*numbers):\n",
        "    print(numbers)\n",
        "\n",
        "func_args(5,6,7,8,9)\n",
        "func_args(100,\"Global AI Hub\")"
      ],
      "execution_count": null,
      "outputs": [
        {
          "output_type": "stream",
          "text": [
            "(5, 6, 7, 8, 9)\n",
            "(100, 'Global AI Hub')\n"
          ],
          "name": "stdout"
        }
      ]
    },
    {
      "cell_type": "code",
      "metadata": {
        "id": "FekFHwnOlWkT",
        "colab_type": "code",
        "colab": {},
        "outputId": "43d49afc-3559-41e5-d77d-d51dfe4a1ecc"
      },
      "source": [
        "def func_args(*args):\n",
        "    for i in args:\n",
        "        print(i)\n",
        "\n",
        "liste = [10,4.4,'Ahmet',True,\"Istanbul\",33,9.8]\n",
        "func_args(liste)"
      ],
      "execution_count": null,
      "outputs": [
        {
          "output_type": "stream",
          "text": [
            "[10, 4.4, 'Ahmet', True, 'Istanbul', 33, 9.8]\n"
          ],
          "name": "stdout"
        }
      ]
    },
    {
      "cell_type": "code",
      "metadata": {
        "id": "C6IwiuHnlWkZ",
        "colab_type": "code",
        "colab": {},
        "outputId": "126472d2-89de-49e3-8f82-a1a6e27906df"
      },
      "source": [
        "#kwargs\n",
        "def func_kwargs(**number):\n",
        "    print(number)\n",
        "    \n",
        "func_kwargs(num1 = 'Ankara', num2 = 'Kocaeli', num3 = True, num4 = 3.14)"
      ],
      "execution_count": null,
      "outputs": [
        {
          "output_type": "stream",
          "text": [
            "{'num1': 'Ankara', 'num2': 'Kocaeli', 'num3': True, 'num4': 3.14}\n"
          ],
          "name": "stdout"
        }
      ]
    },
    {
      "cell_type": "markdown",
      "metadata": {
        "colab_type": "text",
        "id": "6sOO_4CbBygM"
      },
      "source": [
        "### Let's write a function that returns a random word from a list.\n",
        "\n",
        "###Modules\n",
        "\n",
        "import numpy as np\n",
        "\n",
        "import tensorflow as tf\n",
        "\n",
        "import myModules as my_mod\n",
        "\n",
        "myModules.myFunc()\n",
        "\n",
        "from myModules import *\n",
        "\n",
        "myFunc()"
      ]
    },
    {
      "cell_type": "code",
      "metadata": {
        "id": "Xjm17EGTlWkd",
        "colab_type": "code",
        "colab": {}
      },
      "source": [
        "#calling a function from myModules\n",
        "my_mod.sum()\n",
        "my_mod.multiple()"
      ],
      "execution_count": null,
      "outputs": []
    },
    {
      "cell_type": "code",
      "metadata": {
        "colab_type": "code",
        "id": "fyf2VtDZ3ALS",
        "colab": {}
      },
      "source": [
        "words = [\"artificial\",\"intelligence\",\"machine\",\"learning\",\"python\",\"programming\"]\n",
        "\n",
        "\n",
        "#from random import *\n",
        "import random as rnd\n",
        "\n",
        "def randomWord(words):\n",
        "  index = rnd.randint(0, len(words)-1)\n",
        "  return words[index]\n",
        "  \n",
        "\n"
      ],
      "execution_count": null,
      "outputs": []
    },
    {
      "cell_type": "code",
      "metadata": {
        "id": "BesFivMOlWki",
        "colab_type": "code",
        "colab": {},
        "outputId": "033004da-fe08-488f-f079-66027e58b691"
      },
      "source": [
        "len(words)"
      ],
      "execution_count": null,
      "outputs": [
        {
          "output_type": "execute_result",
          "data": {
            "text/plain": [
              "6"
            ]
          },
          "metadata": {
            "tags": []
          },
          "execution_count": 100
        }
      ]
    },
    {
      "cell_type": "code",
      "metadata": {
        "colab_type": "code",
        "id": "vdt230OzC_DR",
        "colab": {
          "base_uri": "https://localhost:8080/",
          "height": 35
        },
        "outputId": "d86a979d-f371-44b4-9769-3b074686680c"
      },
      "source": [
        "word = randomWord(words)\n",
        "print(word)"
      ],
      "execution_count": null,
      "outputs": [
        {
          "output_type": "stream",
          "text": [
            "machine\n"
          ],
          "name": "stdout"
        }
      ]
    },
    {
      "cell_type": "markdown",
      "metadata": {
        "colab_type": "text",
        "id": "MfFOsrA6AfmC"
      },
      "source": [
        "###Global & Local Variables"
      ]
    },
    {
      "cell_type": "code",
      "metadata": {
        "colab_type": "code",
        "id": "7_UD1zAn_lxX",
        "colab": {
          "base_uri": "https://localhost:8080/",
          "height": 35
        },
        "outputId": "943b58cd-497e-4cec-962f-37084451f85a"
      },
      "source": [
        "x = 5\n",
        "\n",
        "print(x)"
      ],
      "execution_count": null,
      "outputs": [
        {
          "output_type": "stream",
          "text": [
            "5\n"
          ],
          "name": "stdout"
        }
      ]
    },
    {
      "cell_type": "code",
      "metadata": {
        "colab_type": "code",
        "id": "IisEjgqpAqCi",
        "colab": {}
      },
      "source": [
        "def display():\n",
        "  x = 4\n",
        "  return(x)"
      ],
      "execution_count": null,
      "outputs": []
    },
    {
      "cell_type": "code",
      "metadata": {
        "colab_type": "code",
        "id": "6dhEuYDjAylB",
        "colab": {
          "base_uri": "https://localhost:8080/",
          "height": 35
        },
        "outputId": "3d88f156-bdd1-411b-9fcb-93715c02d292"
      },
      "source": [
        "display()"
      ],
      "execution_count": null,
      "outputs": [
        {
          "output_type": "execute_result",
          "data": {
            "text/plain": [
              "4"
            ]
          },
          "metadata": {
            "tags": []
          },
          "execution_count": 107
        }
      ]
    },
    {
      "cell_type": "code",
      "metadata": {
        "colab_type": "code",
        "id": "dPUxfagJA7Gn",
        "colab": {
          "base_uri": "https://localhost:8080/",
          "height": 35
        },
        "outputId": "ba6bf99f-ba77-4498-b6f5-fe4c2328d920"
      },
      "source": [
        "print(x)"
      ],
      "execution_count": null,
      "outputs": [
        {
          "output_type": "stream",
          "text": [
            "5\n"
          ],
          "name": "stdout"
        }
      ]
    },
    {
      "cell_type": "markdown",
      "metadata": {
        "colab_type": "text",
        "id": "WJreHgrGllCV"
      },
      "source": [
        "## Methods\n",
        "\n",
        "Functions are called by name, it can take parameters inside and optionally the resulting value can be used outside of the function.\n",
        "\n",
        "\n",
        "Methods are also called by name, in many ways they are like functions, but calling is performed through an object such as a String or list.\n",
        "\n",
        "\n",
        "object.methodName(parameter)"
      ]
    },
    {
      "cell_type": "code",
      "metadata": {
        "colab_type": "code",
        "id": "G56qfrjqDEDP",
        "colab": {},
        "outputId": "00d728df-be2a-4243-8d35-b34b566f60b7"
      },
      "source": [
        "s = input(\"Please enter a name: \")\n",
        "\n",
        "upper = s.capitalize()\n",
        "\n",
        "print(upper)"
      ],
      "execution_count": null,
      "outputs": [
        {
          "output_type": "stream",
          "text": [
            "Please enter a name: omer\n",
            "Omer\n"
          ],
          "name": "stdout"
        }
      ]
    },
    {
      "cell_type": "code",
      "metadata": {
        "colab_type": "code",
        "id": "7DzoBNeApbzZ",
        "colab": {
          "base_uri": "https://localhost:8080/",
          "height": 35
        },
        "outputId": "1574c1d7-156b-4650-f3b6-8a2b22b98eed"
      },
      "source": [
        "#return the index of the element with the highest value in a given list.\n",
        "\n",
        "myList = [45,7,23,6,12,78]\n",
        "\n",
        "maxElement = max(myList)\n",
        "\n",
        "print(maxElement)\n",
        "\n",
        "maxIndex = myList.index(maxElement)\n",
        "\n",
        "print(maxIndex)"
      ],
      "execution_count": null,
      "outputs": [
        {
          "output_type": "stream",
          "text": [
            "78\n",
            "5\n"
          ],
          "name": "stdout"
        }
      ]
    },
    {
      "cell_type": "code",
      "metadata": {
        "id": "pl39b-cLlWk_",
        "colab_type": "code",
        "colab": {}
      },
      "source": [
        ""
      ],
      "execution_count": null,
      "outputs": []
    }
  ]
}