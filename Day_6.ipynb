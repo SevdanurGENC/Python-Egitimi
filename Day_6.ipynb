{
  "nbformat": 4,
  "nbformat_minor": 0,
  "metadata": {
    "colab": {
      "name": "Object_Oriented_Programming.ipynb",
      "provenance": [],
      "collapsed_sections": []
    },
    "kernelspec": {
      "display_name": "Python 3",
      "language": "python",
      "name": "python3"
    },
    "language_info": {
      "codemirror_mode": {
        "name": "ipython",
        "version": 3
      },
      "file_extension": ".py",
      "mimetype": "text/x-python",
      "name": "python",
      "nbconvert_exporter": "python",
      "pygments_lexer": "ipython3",
      "version": "3.7.4"
    }
  },
  "cells": [
    {
      "cell_type": "markdown",
      "metadata": {
        "colab_type": "text",
        "id": "cma2IKnL9e-M"
      },
      "source": [
        "# Exceptions \n",
        "\n",
        "* Programmer Errors \n",
        "* Program Bugs \n",
        "* Exceptions\n",
        "\n",
        "\n"
      ]
    },
    {
      "cell_type": "code",
      "metadata": {
        "colab_type": "code",
        "id": "1YGSrszE9cch",
        "colab": {
          "base_uri": "https://localhost:8080/",
          "height": 132
        },
        "outputId": "30e93b4a-a466-4cd9-a46d-1698dece3e55"
      },
      "source": [
        "# error example,SyntaxError.\n",
        "\n",
        "print \"Hello World!\"   "
      ],
      "execution_count": null,
      "outputs": [
        {
          "output_type": "error",
          "ename": "SyntaxError",
          "evalue": "Missing parentheses in call to 'print'. Did you mean print(\"Hello World!\")? (<ipython-input-1-c7f6c99ffc2b>, line 3)",
          "traceback": [
            "\u001b[1;36m  File \u001b[1;32m\"<ipython-input-1-c7f6c99ffc2b>\"\u001b[1;36m, line \u001b[1;32m3\u001b[0m\n\u001b[1;33m    print \"Hello World!\"\u001b[0m\n\u001b[1;37m                       ^\u001b[0m\n\u001b[1;31mSyntaxError\u001b[0m\u001b[1;31m:\u001b[0m Missing parentheses in call to 'print'. Did you mean print(\"Hello World!\")?\n"
          ]
        }
      ]
    },
    {
      "cell_type": "code",
      "metadata": {
        "colab_type": "code",
        "id": "OMnUYXwD_msy",
        "colab": {},
        "outputId": "800a3ad2-2748-40a4-894a-5d43d780aabd"
      },
      "source": [
        "#bug example.\n",
        "\n",
        "num1 = input(\"Enter the first integer: \")\n",
        "num2 = input(\"Enter the second integer: \")\n",
        "\n",
        "print(num1, \"+\", num2, \"=\", num1 + num2)"
      ],
      "execution_count": null,
      "outputs": [
        {
          "output_type": "stream",
          "text": [
            "Enter the first integer: 5\n",
            "Enter the second integer: 7\n",
            "5 + 7 = 57\n"
          ],
          "name": "stdout"
        }
      ]
    },
    {
      "cell_type": "code",
      "metadata": {
        "colab_type": "code",
        "id": "n0Ux_gF9CthH",
        "colab": {},
        "outputId": "b540dd55-99b8-474e-a726-974148ee29c4"
      },
      "source": [
        "#exception example, TypeError.\n",
        "\n",
        "num3 = int(input(\"First integer: \"))\n",
        "num4 = int(input(\"Second integer: \"))\n",
        "\n",
        "print(num3, \"/\",num4, \"=\", num3 / float(num4))"
      ],
      "execution_count": null,
      "outputs": [
        {
          "output_type": "stream",
          "text": [
            "First integer: 32\n",
            "Second integer: 65\n",
            "32 / 65 = 0.49230769230769234\n"
          ],
          "name": "stdout"
        }
      ]
    },
    {
      "cell_type": "code",
      "metadata": {
        "id": "e2ORm3w6la1J",
        "colab_type": "code",
        "colab": {},
        "outputId": "308bb592-512a-4deb-c781-22cc37f9b5cf"
      },
      "source": [
        "int(3)"
      ],
      "execution_count": null,
      "outputs": [
        {
          "output_type": "execute_result",
          "data": {
            "text/plain": [
              "3"
            ]
          },
          "metadata": {
            "tags": []
          },
          "execution_count": 8
        }
      ]
    },
    {
      "cell_type": "code",
      "metadata": {
        "id": "n2XZYrdula1Q",
        "colab_type": "code",
        "colab": {},
        "outputId": "704bc958-94ec-4a99-daaf-f648fdc43df5"
      },
      "source": [
        "#ValueError\n",
        "int(\"Hello World\")"
      ],
      "execution_count": null,
      "outputs": [
        {
          "output_type": "error",
          "ename": "ValueError",
          "evalue": "invalid literal for int() with base 10: 'Hello World'",
          "traceback": [
            "\u001b[1;31m---------------------------------------------------------------------------\u001b[0m",
            "\u001b[1;31mValueError\u001b[0m                                Traceback (most recent call last)",
            "\u001b[1;32m<ipython-input-10-4325daae57a4>\u001b[0m in \u001b[0;36m<module>\u001b[1;34m\u001b[0m\n\u001b[0;32m      1\u001b[0m \u001b[1;31m#ValueError\u001b[0m\u001b[1;33m\u001b[0m\u001b[1;33m\u001b[0m\u001b[1;33m\u001b[0m\u001b[0m\n\u001b[1;32m----> 2\u001b[1;33m \u001b[0mint\u001b[0m\u001b[1;33m(\u001b[0m\u001b[1;34m\"Hello World\"\u001b[0m\u001b[1;33m)\u001b[0m\u001b[1;33m\u001b[0m\u001b[1;33m\u001b[0m\u001b[0m\n\u001b[0m",
            "\u001b[1;31mValueError\u001b[0m: invalid literal for int() with base 10: 'Hello World'"
          ]
        }
      ]
    },
    {
      "cell_type": "code",
      "metadata": {
        "colab_type": "code",
        "id": "D9_dw3TqA0wc",
        "colab": {},
        "outputId": "2a1d5777-1fef-4853-c3f0-4e86fe6d7aed"
      },
      "source": [
        "# ZeroDivisionError.\n",
        "\n",
        "\n",
        "num3 = int(input(\"First integer: \"))\n",
        "num4 = int(input(\"Second integer: \"))\n",
        "\n",
        "print(num3, \"/\",num4, \"=\", num3/num4)"
      ],
      "execution_count": null,
      "outputs": [
        {
          "output_type": "stream",
          "text": [
            "First integer: 9\n",
            "Second integer: 0\n"
          ],
          "name": "stdout"
        },
        {
          "output_type": "error",
          "ename": "ZeroDivisionError",
          "evalue": "division by zero",
          "traceback": [
            "\u001b[1;31m---------------------------------------------------------------------------\u001b[0m",
            "\u001b[1;31mZeroDivisionError\u001b[0m                         Traceback (most recent call last)",
            "\u001b[1;32m<ipython-input-12-c273cdf866df>\u001b[0m in \u001b[0;36m<module>\u001b[1;34m\u001b[0m\n\u001b[0;32m      5\u001b[0m \u001b[0mnum4\u001b[0m \u001b[1;33m=\u001b[0m \u001b[0mint\u001b[0m\u001b[1;33m(\u001b[0m\u001b[0minput\u001b[0m\u001b[1;33m(\u001b[0m\u001b[1;34m\"Second integer: \"\u001b[0m\u001b[1;33m)\u001b[0m\u001b[1;33m)\u001b[0m\u001b[1;33m\u001b[0m\u001b[1;33m\u001b[0m\u001b[0m\n\u001b[0;32m      6\u001b[0m \u001b[1;33m\u001b[0m\u001b[0m\n\u001b[1;32m----> 7\u001b[1;33m \u001b[0mprint\u001b[0m\u001b[1;33m(\u001b[0m\u001b[0mnum3\u001b[0m\u001b[1;33m,\u001b[0m \u001b[1;34m\"/\"\u001b[0m\u001b[1;33m,\u001b[0m\u001b[0mnum4\u001b[0m\u001b[1;33m,\u001b[0m \u001b[1;34m\"=\"\u001b[0m\u001b[1;33m,\u001b[0m \u001b[0mnum3\u001b[0m\u001b[1;33m/\u001b[0m\u001b[0mnum4\u001b[0m\u001b[1;33m)\u001b[0m\u001b[1;33m\u001b[0m\u001b[1;33m\u001b[0m\u001b[0m\n\u001b[0m",
            "\u001b[1;31mZeroDivisionError\u001b[0m: division by zero"
          ]
        }
      ]
    },
    {
      "cell_type": "code",
      "metadata": {
        "id": "MEG6rMLYla1a",
        "colab_type": "code",
        "colab": {},
        "outputId": "aebf4d6f-1c06-4e39-ff35-c3fdd90f4c39"
      },
      "source": [
        "3 + 5"
      ],
      "execution_count": null,
      "outputs": [
        {
          "output_type": "execute_result",
          "data": {
            "text/plain": [
              "8"
            ]
          },
          "metadata": {
            "tags": []
          },
          "execution_count": 6
        }
      ]
    },
    {
      "cell_type": "code",
      "metadata": {
        "id": "ZAvBllCQla1k",
        "colab_type": "code",
        "colab": {},
        "outputId": "d0b3b91b-2c82-4b20-ca8f-49989be6a368"
      },
      "source": [
        "#bug example.\n",
        "\n",
        "num1 = int(input(\"Enter the first integer: \"))\n",
        "num2 = int(input(\"Enter the second integer: \"))\n",
        "\n",
        "print(num1, \"+\", num2, \"=\", num1 + num2)"
      ],
      "execution_count": null,
      "outputs": [
        {
          "output_type": "stream",
          "text": [
            "Enter the first integer: 3\n",
            "Enter the second integer: 6\n",
            "3 + 6 = 9\n"
          ],
          "name": "stdout"
        }
      ]
    },
    {
      "cell_type": "markdown",
      "metadata": {
        "colab_type": "text",
        "id": "bz2U4A64BnWJ"
      },
      "source": [
        "##Exception Handling\n",
        "\n",
        "\n",
        "try:\n",
        "\n",
        "\n",
        "> the situations where we can get exceptions\n",
        "\n",
        "except \"Exception Name\":\n",
        "\n",
        "\n",
        "> the operations in case of exceptions\n",
        "\n",
        "\n",
        "\n"
      ]
    },
    {
      "cell_type": "code",
      "metadata": {
        "colab_type": "code",
        "id": "-2Dkw2H4BpCX",
        "colab": {
          "base_uri": "https://localhost:8080/",
          "height": 204
        },
        "outputId": "f81b0a41-db10-4a9d-852e-00eaf498e0d4"
      },
      "source": [
        "x = \"Alan Turing\"\n",
        "\n",
        "int(x)"
      ],
      "execution_count": null,
      "outputs": [
        {
          "output_type": "error",
          "ename": "ValueError",
          "evalue": "invalid literal for int() with base 10: 'Alan Turing'",
          "traceback": [
            "\u001b[1;31m---------------------------------------------------------------------------\u001b[0m",
            "\u001b[1;31mValueError\u001b[0m                                Traceback (most recent call last)",
            "\u001b[1;32m<ipython-input-14-417db27f4b47>\u001b[0m in \u001b[0;36m<module>\u001b[1;34m\u001b[0m\n\u001b[0;32m      1\u001b[0m \u001b[0mx\u001b[0m \u001b[1;33m=\u001b[0m \u001b[1;34m\"Alan Turing\"\u001b[0m\u001b[1;33m\u001b[0m\u001b[1;33m\u001b[0m\u001b[0m\n\u001b[0;32m      2\u001b[0m \u001b[1;33m\u001b[0m\u001b[0m\n\u001b[1;32m----> 3\u001b[1;33m \u001b[0mint\u001b[0m\u001b[1;33m(\u001b[0m\u001b[0mx\u001b[0m\u001b[1;33m)\u001b[0m\u001b[1;33m\u001b[0m\u001b[1;33m\u001b[0m\u001b[0m\n\u001b[0m",
            "\u001b[1;31mValueError\u001b[0m: invalid literal for int() with base 10: 'Alan Turing'"
          ]
        }
      ]
    },
    {
      "cell_type": "code",
      "metadata": {
        "colab_type": "code",
        "id": "rAhmuTE9B8cy",
        "colab": {},
        "outputId": "fd637887-18db-4f5d-f47f-fa8dd8e9bcc7"
      },
      "source": [
        "try:\n",
        "  int(x)\n",
        "\n",
        "except ValueError:\n",
        "  print(\"Please enter an integer value!!!\")"
      ],
      "execution_count": null,
      "outputs": [
        {
          "output_type": "stream",
          "text": [
            "Please enter an integer value!!!\n"
          ],
          "name": "stdout"
        }
      ]
    },
    {
      "cell_type": "code",
      "metadata": {
        "colab_type": "code",
        "id": "E4QMEl4YC5cR",
        "colab": {},
        "outputId": "b77688e2-59dc-4f61-b2a1-5b8beb06dc08"
      },
      "source": [
        "num3 = input(\"First integer: \")\n",
        "num4 = input(\"Second integer: \")\n",
        "\n",
        "try:\n",
        "  num3_int = int(num3)\n",
        "  num4_int = int(num4)\n",
        "\n",
        "  print(num3_int, \"/\",num4_int, \"=\", num3_int/num4_int)\n",
        "\n",
        "except ValueError:\n",
        "  print(\"Please enter an integer value!!!\")"
      ],
      "execution_count": null,
      "outputs": [
        {
          "output_type": "stream",
          "text": [
            "First integer: 56\n",
            "Second integer: 79\n",
            "56 / 79 = 0.7088607594936709\n"
          ],
          "name": "stdout"
        }
      ]
    },
    {
      "cell_type": "code",
      "metadata": {
        "colab_type": "code",
        "id": "ttj6eITbCYik",
        "colab": {},
        "outputId": "6129aa80-b389-4860-94f6-fbf1cfe654dc"
      },
      "source": [
        "num3 = input(\"First integer: \")\n",
        "num4 = input(\"Second integer: \")\n",
        "\n",
        "try:\n",
        "  num3_int = int(num3)\n",
        "  num4_int = int(num4)\n",
        "\n",
        "  print(num3_int, \"/\",num4_int, \"=\", num3_int/num4_int)\n",
        "\n",
        "except ZeroDivisionError:\n",
        "  print(\"Please enter the second input different than 0 value!!!\")"
      ],
      "execution_count": null,
      "outputs": [
        {
          "output_type": "stream",
          "text": [
            "First integer: 67\n",
            "Second integer: 0\n",
            "Please enter the second input different than 0 value!!!\n"
          ],
          "name": "stdout"
        }
      ]
    },
    {
      "cell_type": "code",
      "metadata": {
        "colab_type": "code",
        "id": "qgTSl8xJFrnP",
        "colab": {}
      },
      "source": [
        "num3 = input(\"First integer: \")\n",
        "num4 = input(\"Second integer: \")\n",
        "\n",
        "try:\n",
        "  num3_int = int(num3)\n",
        "  num4_int = int(num4)\n",
        "\n",
        "  print(num3_int, \"/\",num4_int, \"=\", num3_int/num4_int)\n",
        "\n",
        "except ValueError:\n",
        "  print(\"Please enter an integer value!!!\")\n",
        "except ZeroDivisionError:\n",
        "  print(\"Please enter the second input different than 0 value!!!\")\n",
        "except:\n",
        "  print(\"Unknown error...\")"
      ],
      "execution_count": null,
      "outputs": []
    },
    {
      "cell_type": "code",
      "metadata": {
        "colab_type": "code",
        "id": "bGy694JBF4nv",
        "colab": {}
      },
      "source": [
        "num3 = input(\"First integer: \")\n",
        "num4 = input(\"Second integer: \")\n",
        "\n",
        "try:\n",
        "  num3_int = int(num3)\n",
        "  num4_int = int(num4)\n",
        "\n",
        "  print(num3_int, \"/\",num4_int, \"=\", num3_int/num4_int)\n",
        "\n",
        "except (ValueError, ZeroDivisionError):\n",
        "  print(\"Error!!!\")"
      ],
      "execution_count": null,
      "outputs": []
    },
    {
      "cell_type": "code",
      "metadata": {
        "colab_type": "code",
        "id": "tu1cCIfjJiFM",
        "colab": {}
      },
      "source": [
        "#try/except/as\n",
        "\n",
        "\n",
        "num3 = input(\"First integer: \")\n",
        "num4 = input(\"Second integer: \")\n",
        "\n",
        "try:\n",
        "  num3_int = int(num3)\n",
        "  num4_int = int(num4)\n",
        "\n",
        "  print(num3_int, \"/\",num4_int, \"=\", num3_int/num4_int)\n",
        "\n",
        "except ValueError as error:\n",
        "  print(\"Error!!!\")\n",
        "  print(\"Error message: \", error)"
      ],
      "execution_count": null,
      "outputs": []
    },
    {
      "cell_type": "code",
      "metadata": {
        "colab_type": "code",
        "id": "g07-ysSCGQvw",
        "colab": {},
        "outputId": "84c3d2d2-aa7e-4eb5-a4f2-ca457c9a1a6c"
      },
      "source": [
        "#exception handling in loop structure\n",
        "\n",
        "\n",
        "while True:\n",
        "    num1 = input(\"First number: (Press q for quit the program): \")\n",
        "\n",
        "    if num1 == \"q\":\n",
        "        break\n",
        "\n",
        "    num2 = input(\"Second number: \")\n",
        "\n",
        "    try:\n",
        "        num1_int = int(num1)\n",
        "        num2_int = int(num2)\n",
        "        print(num1_int, \"/\", num2_int, \"=\", num1_int / num2_int)\n",
        "    except (ValueError, ZeroDivisionError):\n",
        "        print(\"Error!\")\n",
        "        print(\"Please try again!\")"
      ],
      "execution_count": null,
      "outputs": [
        {
          "output_type": "stream",
          "text": [
            "First number: (Press q for quit the program): 45\n",
            "Second number: 9\n",
            "45 / 9 = 5.0\n",
            "First number: (Press q for quit the program): 100\n",
            "Second number: 10\n",
            "100 / 10 = 10.0\n",
            "First number: (Press q for quit the program): 100\n",
            "Second number: \"HAHA\"\n",
            "Error!\n",
            "Please try again!\n",
            "First number: (Press q for quit the program): 45\n",
            "Second number: 0\n",
            "Error!\n",
            "Please try again!\n"
          ],
          "name": "stdout"
        }
      ]
    },
    {
      "cell_type": "code",
      "metadata": {
        "colab_type": "code",
        "id": "S7czCxD3KTKx",
        "colab": {}
      },
      "source": [
        "\"\"\"\n",
        "exception handling in functions\n",
        "using raise command\n",
        "\"\"\"\n",
        "\n",
        "\n",
        "def reverse(s):\n",
        "\n",
        "    if (type(s) != str):\n",
        "        raise ValueError(\"Please enter a String type.\")\n",
        "    else:\n",
        "        return s[::-1]\n",
        "\n"
      ],
      "execution_count": null,
      "outputs": []
    },
    {
      "cell_type": "code",
      "metadata": {
        "colab_type": "code",
        "id": "2t0fmpb7MOfp",
        "colab": {
          "base_uri": "https://localhost:8080/",
          "height": 36
        },
        "outputId": "676c7296-d80c-4b98-8fc2-1851888d1699"
      },
      "source": [
        "reverse(\"python\")"
      ],
      "execution_count": null,
      "outputs": [
        {
          "output_type": "execute_result",
          "data": {
            "text/plain": [
              "'nohtyp'"
            ]
          },
          "metadata": {
            "tags": []
          },
          "execution_count": 8
        }
      ]
    },
    {
      "cell_type": "code",
      "metadata": {
        "colab_type": "code",
        "id": "Qp4QI6GhzBgC",
        "colab": {},
        "outputId": "c5452ca6-17cb-4908-f34d-29b3369cef1a"
      },
      "source": [
        "reverse(12)"
      ],
      "execution_count": null,
      "outputs": [
        {
          "output_type": "error",
          "ename": "ValueError",
          "evalue": "Please enter a String type.",
          "traceback": [
            "\u001b[1;31m---------------------------------------------------------------------------\u001b[0m",
            "\u001b[1;31mValueError\u001b[0m                                Traceback (most recent call last)",
            "\u001b[1;32m<ipython-input-9-9be0aeb641b6>\u001b[0m in \u001b[0;36m<module>\u001b[1;34m\u001b[0m\n\u001b[1;32m----> 1\u001b[1;33m \u001b[0mreverse\u001b[0m\u001b[1;33m(\u001b[0m\u001b[1;36m12\u001b[0m\u001b[1;33m)\u001b[0m\u001b[1;33m\u001b[0m\u001b[1;33m\u001b[0m\u001b[0m\n\u001b[0m",
            "\u001b[1;32m<ipython-input-7-421a260d7203>\u001b[0m in \u001b[0;36mreverse\u001b[1;34m(s)\u001b[0m\n\u001b[0;32m      8\u001b[0m \u001b[1;33m\u001b[0m\u001b[0m\n\u001b[0;32m      9\u001b[0m     \u001b[1;32mif\u001b[0m \u001b[1;33m(\u001b[0m\u001b[0mtype\u001b[0m\u001b[1;33m(\u001b[0m\u001b[0ms\u001b[0m\u001b[1;33m)\u001b[0m \u001b[1;33m!=\u001b[0m \u001b[0mstr\u001b[0m\u001b[1;33m)\u001b[0m\u001b[1;33m:\u001b[0m\u001b[1;33m\u001b[0m\u001b[1;33m\u001b[0m\u001b[0m\n\u001b[1;32m---> 10\u001b[1;33m         \u001b[1;32mraise\u001b[0m \u001b[0mValueError\u001b[0m\u001b[1;33m(\u001b[0m\u001b[1;34m\"Please enter a String type.\"\u001b[0m\u001b[1;33m)\u001b[0m\u001b[1;33m\u001b[0m\u001b[1;33m\u001b[0m\u001b[0m\n\u001b[0m\u001b[0;32m     11\u001b[0m     \u001b[1;32melse\u001b[0m\u001b[1;33m:\u001b[0m\u001b[1;33m\u001b[0m\u001b[1;33m\u001b[0m\u001b[0m\n\u001b[0;32m     12\u001b[0m         \u001b[1;32mreturn\u001b[0m \u001b[0ms\u001b[0m\u001b[1;33m[\u001b[0m\u001b[1;33m:\u001b[0m\u001b[1;33m:\u001b[0m\u001b[1;33m-\u001b[0m\u001b[1;36m1\u001b[0m\u001b[1;33m]\u001b[0m\u001b[1;33m\u001b[0m\u001b[1;33m\u001b[0m\u001b[0m\n",
            "\u001b[1;31mValueError\u001b[0m: Please enter a String type."
          ]
        }
      ]
    },
    {
      "cell_type": "code",
      "metadata": {
        "id": "goltKT5Ela2g",
        "colab_type": "code",
        "colab": {},
        "outputId": "2a90fcea-f789-4cb9-a021-2a97c1b82d7c"
      },
      "source": [
        "#finally\n",
        "try:\n",
        "    a = int(input(\"number1:\"))\n",
        "    b = int(input(\"number2:\"))\n",
        "    print(a/b)\n",
        "except ValueError:\n",
        "    print(\"Please Check value out\")\n",
        "except ZeroDivisionError:\n",
        "    print(\"it cannot be divided by zero\")\n",
        "finally:\n",
        "    print(\"show must go on\")\n",
        "    print(\"Hello world\")"
      ],
      "execution_count": null,
      "outputs": [
        {
          "output_type": "stream",
          "text": [
            "number1:3\n",
            "number2:0\n",
            "it cannot be divided by zero\n",
            "show must go on\n",
            "Hello world\n"
          ],
          "name": "stdout"
        }
      ]
    },
    {
      "cell_type": "markdown",
      "metadata": {
        "colab_type": "text",
        "id": "H6k8jXA_OKDH"
      },
      "source": [
        "# Intro to Object Oriented Programming\n",
        "\n",
        "Every entity we see around us is an object.\n",
        "Each object has its own attributes and a set of functions (methods) they perform.\n",
        "\n",
        "The concept we call class is also the data types that enable us to generate objects.\n",
        "\n"
      ]
    },
    {
      "cell_type": "code",
      "metadata": {
        "id": "3OrB2on4la2n",
        "colab_type": "code",
        "colab": {},
        "outputId": "6cc6b1e8-9ea8-4820-f26c-3bdd5b31855a"
      },
      "source": [
        "sesli_harfler = 'aeıioöuü'\n",
        "sayac = 0\n",
        "def kelime_al():\n",
        "    return input('Bir kelime giriniz:')\n",
        "\n",
        "def sesli_harf(harf):\n",
        "    return harf in sesli_harfler\n",
        "\n",
        "def artır(sayac,kelime):\n",
        "    for harf in kelime:\n",
        "        if sesli_harf(harf):\n",
        "            sayac = sayac + 1\n",
        "    return sayac\n",
        "\n",
        "def ekrana_bas(kelime):   \n",
        "    mesaj = '{} kelimesinde {} sesli harf var.'\n",
        "    print(mesaj.format(kelime,artır(sayac,kelime)))\n",
        "    \n",
        "def calıstır():\n",
        "    kelime = kelime_al()\n",
        "    ekrana_bas(kelime)\n",
        "\n",
        "calıstır()"
      ],
      "execution_count": null,
      "outputs": [
        {
          "output_type": "stream",
          "text": [
            "Bir kelime giriniz:Hello World\n",
            "Hello World kelimesinde 3 sesli harf var.\n"
          ],
          "name": "stdout"
        }
      ]
    },
    {
      "cell_type": "code",
      "metadata": {
        "id": "ohitmdGBla2q",
        "colab_type": "code",
        "colab": {}
      },
      "source": [
        "class HarfSayacı:\n",
        "    def __init__(self):\n",
        "        self.sesli_harfler = 'aeıioöuü'\n",
        "        self.sayaç = 0\n",
        "\n",
        "    def kelime_sor(self):\n",
        "        return input('Bir kelime girin: ')\n",
        "\n",
        "    def seslidir(self, harf):\n",
        "        return harf in self.sesli_harfler\n",
        "\n",
        "    def artır(self):\n",
        "        for harf in self.kelime:\n",
        "            if self.seslidir(harf):\n",
        "                self.sayaç += 1\n",
        "        return self.sayaç\n",
        "\n",
        "    def ekrana_bas(self):\n",
        "        mesaj = \"{} kelimesinde {} sesli harf var.\"\n",
        "        sesli_harf_sayısı = self.artır()\n",
        "        print(mesaj.format(self.kelime, sesli_harf_sayısı))\n",
        "\n",
        "    def çalıştır(self):\n",
        "        self.kelime = self.kelime_sor()\n",
        "        self.ekrana_bas()\n",
        "\n",
        "if __name__ == '__main__':\n",
        "    sayaç = HarfSayacı()\n",
        "    sayaç.çalıştır()"
      ],
      "execution_count": null,
      "outputs": []
    },
    {
      "cell_type": "code",
      "metadata": {
        "id": "goeyGJlnla2w",
        "colab_type": "code",
        "colab": {},
        "outputId": "5a075052-2059-4b69-d985-beffec48621a"
      },
      "source": [
        "class Worker():\n",
        "    pass\n",
        "\n",
        "\n",
        "\"\"\"\n",
        "class Worker:\n",
        "    pass\n",
        "\"\"\""
      ],
      "execution_count": null,
      "outputs": [
        {
          "output_type": "execute_result",
          "data": {
            "text/plain": [
              "'\\nclass Worker:\\n    pass\\n'"
            ]
          },
          "metadata": {
            "tags": []
          },
          "execution_count": 14
        }
      ]
    },
    {
      "cell_type": "code",
      "metadata": {
        "colab_type": "code",
        "id": "RvIjixb-ONiw",
        "colab": {}
      },
      "source": [
        "#class attributes\n",
        "class Car():\n",
        "  colour = \"yellow\"\n",
        "  brand = \"xyz\"\n",
        "  door = 4\n"
      ],
      "execution_count": null,
      "outputs": []
    },
    {
      "cell_type": "code",
      "metadata": {
        "colab_type": "code",
        "id": "PHXc3gzoZVRK",
        "colab": {
          "base_uri": "https://localhost:8080/",
          "height": 35
        },
        "outputId": "be0b6557-da92-46cc-8241-1bb3137466fb"
      },
      "source": [
        "#instantiation\n",
        "car1 = Car()\n",
        "\n",
        "print(car1)\n"
      ],
      "execution_count": null,
      "outputs": [
        {
          "output_type": "stream",
          "text": [
            "<__main__.Car object at 0x00000180ADF5DE08>\n"
          ],
          "name": "stdout"
        }
      ]
    },
    {
      "cell_type": "code",
      "metadata": {
        "colab_type": "code",
        "id": "8Z38odyhZj2x",
        "colab": {},
        "outputId": "901c2a3c-216c-4e68-b8ee-350aa0e12948"
      },
      "source": [
        "print(car1.colour)\n",
        "print(car1.brand)\n",
        "print(car1.door)"
      ],
      "execution_count": null,
      "outputs": [
        {
          "output_type": "stream",
          "text": [
            "yellow\n",
            "xyz\n",
            "4\n"
          ],
          "name": "stdout"
        }
      ]
    },
    {
      "cell_type": "code",
      "metadata": {
        "colab_type": "code",
        "id": "ASMwsKZQZ73S",
        "colab": {},
        "outputId": "a0d958b6-48b4-407e-b907-307530715dc8"
      },
      "source": [
        "car2 = Car()\n",
        "\n",
        "car2.colour"
      ],
      "execution_count": null,
      "outputs": [
        {
          "output_type": "execute_result",
          "data": {
            "text/plain": [
              "'yellow'"
            ]
          },
          "metadata": {
            "tags": []
          },
          "execution_count": 30
        }
      ]
    },
    {
      "cell_type": "code",
      "metadata": {
        "colab_type": "code",
        "id": "gvURL79zaMSZ",
        "colab": {},
        "outputId": "815ccd37-5de5-4dda-8dd8-df306e1d9dd8"
      },
      "source": [
        "#We can also call attributes over the class without creating an object.\n",
        "\n",
        "Car.door"
      ],
      "execution_count": null,
      "outputs": [
        {
          "output_type": "execute_result",
          "data": {
            "text/plain": [
              "4"
            ]
          },
          "metadata": {
            "tags": []
          },
          "execution_count": 24
        }
      ]
    },
    {
      "cell_type": "code",
      "metadata": {
        "colab_type": "code",
        "id": "D-bSYoMcaRbD",
        "colab": {
          "base_uri": "https://localhost:8080/",
          "height": 36
        },
        "outputId": "2193f663-a22d-434c-9ff0-c2d7d39765bd"
      },
      "source": [
        "Car.brand"
      ],
      "execution_count": null,
      "outputs": [
        {
          "output_type": "execute_result",
          "data": {
            "text/plain": [
              "'xyz'"
            ]
          },
          "metadata": {
            "tags": []
          },
          "execution_count": 25
        }
      ]
    },
    {
      "cell_type": "code",
      "metadata": {
        "colab_type": "code",
        "id": "ODInfukGbGLo",
        "colab": {},
        "outputId": "3260d5a2-e58b-43b3-8be7-4a4a9e87bd68"
      },
      "source": [
        "dir(car1)"
      ],
      "execution_count": null,
      "outputs": [
        {
          "output_type": "execute_result",
          "data": {
            "text/plain": [
              "['__class__',\n",
              " '__delattr__',\n",
              " '__dict__',\n",
              " '__dir__',\n",
              " '__doc__',\n",
              " '__eq__',\n",
              " '__format__',\n",
              " '__ge__',\n",
              " '__getattribute__',\n",
              " '__gt__',\n",
              " '__hash__',\n",
              " '__init__',\n",
              " '__init_subclass__',\n",
              " '__le__',\n",
              " '__lt__',\n",
              " '__module__',\n",
              " '__ne__',\n",
              " '__new__',\n",
              " '__reduce__',\n",
              " '__reduce_ex__',\n",
              " '__repr__',\n",
              " '__setattr__',\n",
              " '__sizeof__',\n",
              " '__str__',\n",
              " '__subclasshook__',\n",
              " '__weakref__',\n",
              " 'brand',\n",
              " 'colour',\n",
              " 'door']"
            ]
          },
          "metadata": {
            "tags": []
          },
          "execution_count": 26
        }
      ]
    },
    {
      "cell_type": "code",
      "metadata": {
        "colab_type": "code",
        "id": "iB2P1I88aZTB",
        "colab": {}
      },
      "source": [
        "\"\"\"\n",
        "In order to create each object with different values at the beginning,\n",
        "we need to send the values of the objects.\n",
        "For this, we use a special method: __init () __\n",
        "\n",
        "The init () method is defined as a constructor function.\n",
        "\n",
        "It is the first function that is automatically called up while creating our objects.\n",
        "\n",
        "By defining this method specially, we can create our objects with different values.\n",
        "\n",
        "\"\"\"\n",
        "\n",
        "\n"
      ],
      "execution_count": null,
      "outputs": []
    },
    {
      "cell_type": "code",
      "metadata": {
        "colab_type": "code",
        "id": "VdPxg1DUbrRE",
        "colab": {}
      },
      "source": [
        "class Car2():\n",
        "\n",
        "  def __init__(self): \n",
        "    print(\"init function calling...\")\n",
        "\n"
      ],
      "execution_count": null,
      "outputs": []
    },
    {
      "cell_type": "code",
      "metadata": {
        "id": "MHV17DUfla3g",
        "colab_type": "code",
        "colab": {},
        "outputId": "5fbb1bd6-fda6-4f23-b0ca-733b41e0a507"
      },
      "source": [
        "car_init = Car2()\n",
        "car_init"
      ],
      "execution_count": null,
      "outputs": [
        {
          "output_type": "stream",
          "text": [
            "init function calling...\n"
          ],
          "name": "stdout"
        },
        {
          "output_type": "execute_result",
          "data": {
            "text/plain": [
              "<__main__.Car2 at 0x180adf31f88>"
            ]
          },
          "metadata": {
            "tags": []
          },
          "execution_count": 32
        }
      ]
    },
    {
      "cell_type": "code",
      "metadata": {
        "colab_type": "code",
        "id": "rukOVNMxc3_T",
        "colab": {}
      },
      "source": [
        "\"\"\"\n",
        "\n",
        "self= to access any variable or other methods in the defined class.\n",
        "\n",
        "\"\"\""
      ],
      "execution_count": null,
      "outputs": []
    },
    {
      "cell_type": "code",
      "metadata": {
        "colab_type": "code",
        "id": "BVfHG7DXcdGj",
        "colab": {},
        "outputId": "825f39d6-249a-4783-86bf-0c677c4b46c0"
      },
      "source": [
        "car = Car2()"
      ],
      "execution_count": null,
      "outputs": [
        {
          "output_type": "stream",
          "text": [
            "init function calling...\n"
          ],
          "name": "stdout"
        }
      ]
    },
    {
      "cell_type": "code",
      "metadata": {
        "colab_type": "code",
        "id": "HSQQs2f0eZpr",
        "colab": {},
        "outputId": "cf60db67-b6b5-4d0b-eac1-91e203f0b43f"
      },
      "source": [
        "class Car3():\n",
        "\n",
        "  def __init__(self,colour,brand,door):\n",
        "    print(\"Hello Car world\")\n",
        "    self.colour = colour\n",
        "    self.brand = brand\n",
        "    self.door = door\n",
        "    print(self.colour,self.brand,self.door)\n",
        "\n",
        "\n",
        "red_car = Car3(\"red\", \"abc\",2)\n",
        "\n",
        "yellow_car = Car3(\"yellow\", \"xyz\", 4)\n",
        "\n",
        "print(red_car.colour)\n",
        "print(yellow_car.brand)"
      ],
      "execution_count": null,
      "outputs": [
        {
          "output_type": "stream",
          "text": [
            "Hello Car world\n",
            "red abc 2\n",
            "Hello Car world\n",
            "yellow xyz 4\n",
            "red\n",
            "xyz\n"
          ],
          "name": "stdout"
        }
      ]
    },
    {
      "cell_type": "code",
      "metadata": {
        "colab_type": "code",
        "id": "Awm6VrLEObqE",
        "colab": {},
        "outputId": "50dc4e52-8511-4a11-b07c-841282aec3d1"
      },
      "source": [
        "blue_car = Car3(\"black\",\"34abc23\",5)\n",
        "print(blue_car)"
      ],
      "execution_count": null,
      "outputs": [
        {
          "output_type": "stream",
          "text": [
            "Hello Car world\n",
            "black 34abc23 5\n",
            "<__main__.Car3 object at 0x00000180ADF53048>\n"
          ],
          "name": "stdout"
        }
      ]
    },
    {
      "cell_type": "code",
      "metadata": {
        "colab_type": "code",
        "id": "YjSEGRYrfQ69",
        "colab": {}
      },
      "source": [
        "class Person():\n",
        "  name = \"\"\n",
        "  age = 0\n",
        "    \n",
        "  def __init__(self, personName, personAge):\n",
        "    self.name = personName\n",
        "    self.age = personAge\n",
        "\n",
        "\n",
        "  def welcomePerson(self):\n",
        "    print(\"Hello \" + self.name)\n",
        "\n",
        "  \n",
        "  def showAge(self):\n",
        "    print(self.age)\n"
      ],
      "execution_count": null,
      "outputs": []
    },
    {
      "cell_type": "code",
      "metadata": {
        "colab_type": "code",
        "id": "GeZqS15XhmM7",
        "colab": {},
        "outputId": "da28c1d6-b411-494f-cd53-bb03a2f13cf1"
      },
      "source": [
        "person1 = Person (\"Asli\", 28)\n",
        "\n",
        "person1.welcomePerson()"
      ],
      "execution_count": null,
      "outputs": [
        {
          "output_type": "stream",
          "text": [
            "Hello Asli\n"
          ],
          "name": "stdout"
        }
      ]
    },
    {
      "cell_type": "code",
      "metadata": {
        "colab_type": "code",
        "id": "imIm2qrdjESE",
        "colab": {},
        "outputId": "e8d19ff6-8805-4426-f6a5-562664599fd5"
      },
      "source": [
        "person1.showAge()"
      ],
      "execution_count": null,
      "outputs": [
        {
          "output_type": "stream",
          "text": [
            "28\n"
          ],
          "name": "stdout"
        }
      ]
    },
    {
      "cell_type": "code",
      "metadata": {
        "colab_type": "code",
        "id": "bGR0XBxLjcGo",
        "colab": {}
      },
      "source": [
        "class Person3():\n",
        "\n",
        "  def __init__(self, name, age):\n",
        "    self.name = name\n",
        "    self.age = age\n",
        "    self.language = []\n",
        " \n",
        "\n",
        "\n",
        "  def welcomePerson(self):\n",
        "    print(\"Hello \" + self.name)\n",
        "\n",
        "  \n",
        "  def showAge(self):\n",
        "    print(self.age)\n",
        "\n",
        "\n",
        "  def addLang (self, new_lang):\n",
        "    print(\"Adding new language..\")\n",
        "    self.language.append(new_lang)\n",
        "\n",
        "  \n",
        "  def showInfo(self):\n",
        "    print(\"{} is {} years old and can speak these languages: \".format(self.name,self.age))\n",
        "    for i in self.language:\n",
        "      print(i)\n",
        "        \n",
        "        \n",
        "\n",
        "        \n",
        "        "
      ],
      "execution_count": null,
      "outputs": []
    },
    {
      "cell_type": "code",
      "metadata": {
        "colab_type": "code",
        "id": "zkmDy4tSpeSO",
        "colab": {}
      },
      "source": [
        "person3 = Person3(\"asli\",28)"
      ],
      "execution_count": null,
      "outputs": []
    },
    {
      "cell_type": "code",
      "metadata": {
        "colab_type": "code",
        "id": "iGvesZvPpqBw",
        "colab": {},
        "outputId": "1055f81c-69b1-467e-807d-20de14c566d1"
      },
      "source": [
        "person3.welcomePerson()"
      ],
      "execution_count": null,
      "outputs": [
        {
          "output_type": "stream",
          "text": [
            "Hello asli\n"
          ],
          "name": "stdout"
        }
      ]
    },
    {
      "cell_type": "code",
      "metadata": {
        "colab_type": "code",
        "id": "ZwaRNvXVptKE",
        "colab": {
          "base_uri": "https://localhost:8080/",
          "height": 35
        },
        "outputId": "71da4988-8ecb-4a1e-ceff-49d607519c28"
      },
      "source": [
        "person3.showAge()"
      ],
      "execution_count": null,
      "outputs": [
        {
          "output_type": "stream",
          "text": [
            "28\n"
          ],
          "name": "stdout"
        }
      ]
    },
    {
      "cell_type": "code",
      "metadata": {
        "colab_type": "code",
        "id": "RssjOznYpvfv",
        "colab": {},
        "outputId": "0304bb81-4fcc-4ff5-c00a-5a85caff404f"
      },
      "source": [
        "person3.addLang(\"german\")"
      ],
      "execution_count": null,
      "outputs": [
        {
          "output_type": "stream",
          "text": [
            "Adding new language..\n"
          ],
          "name": "stdout"
        }
      ]
    },
    {
      "cell_type": "code",
      "metadata": {
        "colab_type": "code",
        "id": "axnwe5fbqOWx",
        "colab": {},
        "outputId": "0cc0200a-e992-4c17-aca3-ec2e19b9adc3"
      },
      "source": [
        "person3.showInfo()"
      ],
      "execution_count": null,
      "outputs": [
        {
          "output_type": "stream",
          "text": [
            "asli is 28 years old and can speak these languages: \n",
            "german\n",
            "german\n"
          ],
          "name": "stdout"
        }
      ]
    },
    {
      "cell_type": "code",
      "metadata": {
        "colab_type": "code",
        "id": "j4LQVwVDtbqL",
        "colab": {},
        "outputId": "75034def-a240-49bd-9006-ea29b16fd832"
      },
      "source": [
        "person3.addLang(\"english\")"
      ],
      "execution_count": null,
      "outputs": [
        {
          "output_type": "stream",
          "text": [
            "Adding new language..\n"
          ],
          "name": "stdout"
        }
      ]
    },
    {
      "cell_type": "code",
      "metadata": {
        "colab_type": "code",
        "id": "rjhVBnGotg5T",
        "colab": {},
        "outputId": "38f05645-6a4a-42e4-e37f-4592c0e865e0"
      },
      "source": [
        "person3.showInfo()"
      ],
      "execution_count": null,
      "outputs": [
        {
          "output_type": "stream",
          "text": [
            "asli is 28 years old and can speak these languages: \n",
            "german\n",
            "german\n",
            "english\n"
          ],
          "name": "stdout"
        }
      ]
    },
    {
      "cell_type": "code",
      "metadata": {
        "id": "ixgOQX4cla4i",
        "colab_type": "code",
        "colab": {}
      },
      "source": [
        ""
      ],
      "execution_count": null,
      "outputs": []
    }
  ]
}