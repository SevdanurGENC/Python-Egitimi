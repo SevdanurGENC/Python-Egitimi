{
  "nbformat": 4,
  "nbformat_minor": 0,
  "metadata": {
    "kernelspec": {
      "display_name": "Python 3",
      "language": "python",
      "name": "python3"
    },
    "language_info": {
      "codemirror_mode": {
        "name": "ipython",
        "version": 3
      },
      "file_extension": ".py",
      "mimetype": "text/x-python",
      "name": "python",
      "nbconvert_exporter": "python",
      "pygments_lexer": "ipython3",
      "version": "3.7.4"
    },
    "colab": {
      "name": "Python3 NumPy.ipynb",
      "provenance": []
    }
  },
  "cells": [
    {
      "cell_type": "markdown",
      "metadata": {
        "id": "0cD8DCHIgNEp",
        "colab_type": "text"
      },
      "source": [
        "### Tek satır if (One-liner if)"
      ]
    },
    {
      "cell_type": "code",
      "metadata": {
        "id": "f0dpk-0tgNEr",
        "colab_type": "code",
        "colab": {},
        "outputId": "61660b14-7696-4d1c-8a00-2bd0f1db12a4"
      },
      "source": [
        "koşul = 3\n",
        "\n",
        "if koşul > 5:\n",
        "    kelime = \"Elma\"\n",
        "elif koşul > 7:\n",
        "    pass\n",
        "else:\n",
        "    kelime = \"Armut\"\n",
        "    print(kelime)"
      ],
      "execution_count": null,
      "outputs": [
        {
          "output_type": "stream",
          "text": [
            "Armut\n"
          ],
          "name": "stdout"
        }
      ]
    },
    {
      "cell_type": "code",
      "metadata": {
        "id": "WZgUMkkzgNE1",
        "colab_type": "code",
        "colab": {}
      },
      "source": [
        "kelime = \"Elma\" if koşul else \"Armut\" if koşul > 5 else \"Çilek\""
      ],
      "execution_count": null,
      "outputs": []
    },
    {
      "cell_type": "markdown",
      "metadata": {
        "id": "nKxp8n69gNE7",
        "colab_type": "text"
      },
      "source": [
        "### Tek satır fonksiyon Lambda (One-liner function Lambda)"
      ]
    },
    {
      "cell_type": "code",
      "metadata": {
        "id": "qKy5bb4rgNE8",
        "colab_type": "code",
        "colab": {},
        "outputId": "27552ffc-f70f-40b2-dc39-568b87941717"
      },
      "source": [
        "def hello_world():\n",
        "    return \"Hello World\"\n",
        "\n",
        "hello_world()"
      ],
      "execution_count": null,
      "outputs": [
        {
          "output_type": "execute_result",
          "data": {
            "text/plain": [
              "'Hello World'"
            ]
          },
          "metadata": {
            "tags": []
          },
          "execution_count": 70
        }
      ]
    },
    {
      "cell_type": "code",
      "metadata": {
        "id": "x82VCbXTgNFB",
        "colab_type": "code",
        "colab": {},
        "outputId": "9b7978b2-29a6-48e9-a768-56ba80abf2aa"
      },
      "source": [
        "def kare_alma(x):\n",
        "    x = x ** 2\n",
        "    return x\n",
        "\n",
        "kare_alma(5)"
      ],
      "execution_count": null,
      "outputs": [
        {
          "output_type": "execute_result",
          "data": {
            "text/plain": [
              "25"
            ]
          },
          "metadata": {
            "tags": []
          },
          "execution_count": 71
        }
      ]
    },
    {
      "cell_type": "code",
      "metadata": {
        "id": "neIFNZU9gNFF",
        "colab_type": "code",
        "colab": {},
        "outputId": "e7e92a15-60f4-4f32-da1d-b24034be7350"
      },
      "source": [
        "kare_al = lambda x: x**2\n",
        "kare_al(5)"
      ],
      "execution_count": null,
      "outputs": [
        {
          "output_type": "execute_result",
          "data": {
            "text/plain": [
              "25"
            ]
          },
          "metadata": {
            "tags": []
          },
          "execution_count": 72
        }
      ]
    },
    {
      "cell_type": "markdown",
      "metadata": {
        "id": "d237zEuPgNFI",
        "colab_type": "text"
      },
      "source": [
        "### map, reduce, filter, zip fonksiyonları"
      ]
    },
    {
      "cell_type": "code",
      "metadata": {
        "id": "to3QDu3EgNFI",
        "colab_type": "code",
        "colab": {},
        "outputId": "77ecc186-1ec4-4dfb-9e34-4ed646c806f4"
      },
      "source": [
        "sayılar = [1, 2, 3, 4, 5, 6, 7]\n",
        "sayıların_kareleri = []\n",
        "\n",
        "for sayı in sayılar:\n",
        "    sayıların_kareleri.append(kare_al(sayı))\n",
        "print(sayıların_kareleri)"
      ],
      "execution_count": null,
      "outputs": [
        {
          "output_type": "stream",
          "text": [
            "[1, 4, 9, 16, 25, 36, 49]\n"
          ],
          "name": "stdout"
        }
      ]
    },
    {
      "cell_type": "code",
      "metadata": {
        "id": "W_maTuqigNFL",
        "colab_type": "code",
        "colab": {},
        "outputId": "0b76c5b8-f517-4e05-fb90-de10a5bab4b7"
      },
      "source": [
        "liste = [2,3,4]\n",
        "\n",
        "def kare_al2(sayi23):\n",
        "    return sayi **2\n",
        "\n",
        "result = map(kare_al2,liste)\n",
        "print(result)"
      ],
      "execution_count": null,
      "outputs": [
        {
          "output_type": "stream",
          "text": [
            "<map object at 0x000001E644B84108>\n"
          ],
          "name": "stdout"
        }
      ]
    },
    {
      "cell_type": "code",
      "metadata": {
        "id": "EULD1zEYgNFQ",
        "colab_type": "code",
        "colab": {},
        "outputId": "1b637a68-10dd-432a-993e-dbc5c1c0af54"
      },
      "source": [
        "#map(function,iteration) \n",
        "sayıların_kareleri =  map(kare_al, sayılar)\n",
        "print(sayıların_kareleri)\n",
        "for sayı in sayıların_kareleri:\n",
        "    print(sayı)\n"
      ],
      "execution_count": null,
      "outputs": [
        {
          "output_type": "stream",
          "text": [
            "<map object at 0x000001E64334D988>\n",
            "1\n",
            "4\n",
            "9\n",
            "16\n",
            "25\n",
            "36\n",
            "49\n"
          ],
          "name": "stdout"
        }
      ]
    },
    {
      "cell_type": "code",
      "metadata": {
        "id": "Es9EBYwsgNFX",
        "colab_type": "code",
        "colab": {},
        "outputId": "90e6e167-d718-4f98-92e7-554d16a23023"
      },
      "source": [
        "from functools import reduce\n",
        "\n",
        "sayılar = [1, 6, 3, 7, 10, 0]\n",
        "print(reduce(lambda x,y: x if x > y else y, sayılar))"
      ],
      "execution_count": null,
      "outputs": [
        {
          "output_type": "stream",
          "text": [
            "10\n"
          ],
          "name": "stdout"
        }
      ]
    },
    {
      "cell_type": "code",
      "metadata": {
        "id": "FcnJBTC9gNFa",
        "colab_type": "code",
        "colab": {},
        "outputId": "73a402b6-3530-470c-ac08-deb3555a4830"
      },
      "source": [
        "def beşten_uzun(kelime):\n",
        "    if len(kelime) > 5:\n",
        "        return True\n",
        "    else:\n",
        "        return False\n",
        "isimler = ['Oğuz', 'Ahmet', 'Necati', 'Ali', 'Mehmet', 'Ziya']\n",
        "uzun_isimler = filter(beşten_uzun, isimler)\n",
        "print(uzun_isimler)\n",
        "for isim in uzun_isimler:\n",
        "    print(isim)"
      ],
      "execution_count": null,
      "outputs": [
        {
          "output_type": "stream",
          "text": [
            "<filter object at 0x000001E64565DE48>\n",
            "Necati\n",
            "Mehmet\n"
          ],
          "name": "stdout"
        }
      ]
    },
    {
      "cell_type": "code",
      "metadata": {
        "id": "q0xUTRjRgNFd",
        "colab_type": "code",
        "colab": {},
        "outputId": "2be93965-c031-402a-daad-d4c2d874957f"
      },
      "source": [
        "sayılar = [0, 1, 2, 3, 4, 5]\n",
        "isimler = ['Oğuz', 'Ahmet', 'Necati', 'Ali', 'Mehmet', 'Ziya']\n",
        "\n",
        "\n",
        "for i, j in zip(sayılar, isimler):\n",
        "    print(i,j)\n"
      ],
      "execution_count": null,
      "outputs": [
        {
          "output_type": "stream",
          "text": [
            "0 Oğuz\n",
            "1 Ahmet\n",
            "2 Necati\n",
            "3 Ali\n",
            "4 Mehmet\n",
            "5 Ziya\n"
          ],
          "name": "stdout"
        }
      ]
    },
    {
      "cell_type": "markdown",
      "metadata": {
        "id": "iPX3_EQ4gNFj",
        "colab_type": "text"
      },
      "source": [
        "### Assert anahtar kelimesi ( Assert keyword )"
      ]
    },
    {
      "cell_type": "code",
      "metadata": {
        "id": "DLld8Kx-gNFk",
        "colab_type": "code",
        "colab": {},
        "outputId": "8f0f0b8a-74cd-4752-ac91-51c8edaf9f1f"
      },
      "source": [
        "yaş = input(\"Yaşınız:\")\n",
        "assert int(yaş) >= 0, \"Yaşınız negatif olamaz\""
      ],
      "execution_count": null,
      "outputs": [
        {
          "output_type": "stream",
          "text": [
            "Yaşınız:-2\n"
          ],
          "name": "stdout"
        },
        {
          "output_type": "error",
          "ename": "AssertionError",
          "evalue": "Yaşınız negatif olamaz",
          "traceback": [
            "\u001b[1;31m---------------------------------------------------------------------------\u001b[0m",
            "\u001b[1;31mAssertionError\u001b[0m                            Traceback (most recent call last)",
            "\u001b[1;32m<ipython-input-86-70f9b1578f3f>\u001b[0m in \u001b[0;36m<module>\u001b[1;34m\u001b[0m\n\u001b[0;32m      1\u001b[0m \u001b[0myaş\u001b[0m \u001b[1;33m=\u001b[0m \u001b[0minput\u001b[0m\u001b[1;33m(\u001b[0m\u001b[1;34m\"Yaşınız:\"\u001b[0m\u001b[1;33m)\u001b[0m\u001b[1;33m\u001b[0m\u001b[1;33m\u001b[0m\u001b[0m\n\u001b[1;32m----> 2\u001b[1;33m \u001b[1;32massert\u001b[0m \u001b[0mint\u001b[0m\u001b[1;33m(\u001b[0m\u001b[0myaş\u001b[0m\u001b[1;33m)\u001b[0m \u001b[1;33m>=\u001b[0m \u001b[1;36m0\u001b[0m\u001b[1;33m,\u001b[0m \u001b[1;34m\"Yaşınız negatif olamaz\"\u001b[0m\u001b[1;33m\u001b[0m\u001b[1;33m\u001b[0m\u001b[0m\n\u001b[0m",
            "\u001b[1;31mAssertionError\u001b[0m: Yaşınız negatif olamaz"
          ]
        }
      ]
    },
    {
      "cell_type": "markdown",
      "metadata": {
        "id": "Pt39eypEgNFo",
        "colab_type": "text"
      },
      "source": [
        "### Üreteçler (Generators)"
      ]
    },
    {
      "cell_type": "code",
      "metadata": {
        "id": "opWTJrc3gNFo",
        "colab_type": "code",
        "colab": {},
        "outputId": "18e16f43-0c91-4479-8ce3-c81e3c1f1682"
      },
      "source": [
        "def generator():\n",
        "    i = 1\n",
        "    print('Öncelikle bu basıldı')\n",
        "    yield i\n",
        "\n",
        "    i += 1\n",
        "    print('Sonra bu')\n",
        "    yield i\n",
        "\n",
        "for eleman in generator():\n",
        "    print(\"For döngüsü içinde:\", eleman)\n"
      ],
      "execution_count": null,
      "outputs": [
        {
          "output_type": "stream",
          "text": [
            "Öncelikle bu basıldı\n",
            "For döngüsü içinde: 1\n",
            "Sonra bu\n",
            "For döngüsü içinde: 2\n"
          ],
          "name": "stdout"
        }
      ]
    },
    {
      "cell_type": "code",
      "metadata": {
        "id": "iOyyp19kgNFr",
        "colab_type": "code",
        "colab": {},
        "outputId": "203a7d24-514f-4cc6-a5b9-f63420032e90"
      },
      "source": [
        "a = 5\n",
        "\n",
        "def outer():\n",
        "    a = 3\n",
        "    def inner():\n",
        "        nonlocal a\n",
        "        a += 5\n",
        "        print(\"inner fonksiyon:\", a)\n",
        "    print(\"outer fonksiyon:\", a)\n",
        "    return inner()\n",
        "\n",
        "outer()\n",
        "inner()\n",
        "print(\"global:\", a)"
      ],
      "execution_count": null,
      "outputs": [
        {
          "output_type": "stream",
          "text": [
            "outer fonksiyon: 3\n",
            "inner fonksiyon: 8\n"
          ],
          "name": "stdout"
        },
        {
          "output_type": "error",
          "ename": "NameError",
          "evalue": "name 'inner' is not defined",
          "traceback": [
            "\u001b[1;31m---------------------------------------------------------------------------\u001b[0m",
            "\u001b[1;31mNameError\u001b[0m                                 Traceback (most recent call last)",
            "\u001b[1;32m<ipython-input-90-2d7815d68966>\u001b[0m in \u001b[0;36m<module>\u001b[1;34m\u001b[0m\n\u001b[0;32m     11\u001b[0m \u001b[1;33m\u001b[0m\u001b[0m\n\u001b[0;32m     12\u001b[0m \u001b[0mouter\u001b[0m\u001b[1;33m(\u001b[0m\u001b[1;33m)\u001b[0m\u001b[1;33m\u001b[0m\u001b[1;33m\u001b[0m\u001b[0m\n\u001b[1;32m---> 13\u001b[1;33m \u001b[0minner\u001b[0m\u001b[1;33m(\u001b[0m\u001b[1;33m)\u001b[0m\u001b[1;33m\u001b[0m\u001b[1;33m\u001b[0m\u001b[0m\n\u001b[0m\u001b[0;32m     14\u001b[0m \u001b[0mprint\u001b[0m\u001b[1;33m(\u001b[0m\u001b[1;34m\"global:\"\u001b[0m\u001b[1;33m,\u001b[0m \u001b[0ma\u001b[0m\u001b[1;33m)\u001b[0m\u001b[1;33m\u001b[0m\u001b[1;33m\u001b[0m\u001b[0m\n",
            "\u001b[1;31mNameError\u001b[0m: name 'inner' is not defined"
          ]
        }
      ]
    },
    {
      "cell_type": "markdown",
      "metadata": {
        "id": "K_01K12mgNFt",
        "colab_type": "text"
      },
      "source": [
        "### Decorators"
      ]
    },
    {
      "cell_type": "code",
      "metadata": {
        "id": "flfleGxXgNFu",
        "colab_type": "code",
        "colab": {},
        "outputId": "01eb5b34-fa0c-4a7d-d465-e43d92924907"
      },
      "source": [
        "#especially It is used for Flask and Django Framework\n",
        "from datetime import datetime\n",
        "\n",
        "def show_time(func):\n",
        "    def wrapper(name):\n",
        "        print(\"Time:\", datetime.now().time())\n",
        "        func(name)\n",
        "    return wrapper\n",
        "\n",
        "@show_time\n",
        "def say_hi(name=\"John\"):\n",
        "    print(\"Hi {}!\".format(name))\n",
        "\n",
        "say_hi(\"Ahmet\")"
      ],
      "execution_count": null,
      "outputs": [
        {
          "output_type": "stream",
          "text": [
            "Time: 19:59:57.128105\n",
            "Hi Ahmet!\n"
          ],
          "name": "stdout"
        }
      ]
    },
    {
      "cell_type": "code",
      "metadata": {
        "id": "ySxCZDiIgNFy",
        "colab_type": "code",
        "colab": {},
        "outputId": "2ed6cbaa-4384-43cb-8bca-69a0bfedf741"
      },
      "source": [
        "import time \n",
        "def calculate_time(func):\n",
        "    def wrapper(numbers):\n",
        "        start = time.time()\n",
        "        end = time.time()\n",
        "        result = func(numbers)\n",
        "        print(func.__name__ + \" \" + str(end - start) + \"HAHA\")\n",
        "        return result\n",
        "    return wrapper\n",
        "\n",
        "@calculate_time\n",
        "def kare_al_wrapper(numbers):\n",
        "    result = []\n",
        "    for i in numbers:\n",
        "        result.append(i ** 2)\n",
        "    return result\n",
        "\n",
        "@calculate_time\n",
        "def kup_al_wrapper(numbers):\n",
        "    result = []\n",
        "    for i in numbers:\n",
        "        result.append(i ** 3)\n",
        "    return result\n",
        "\n",
        "print(kare_al_wrapper(range(100)))\n",
        "print(kup_al_wrapper(range(100)))"
      ],
      "execution_count": null,
      "outputs": [
        {
          "output_type": "stream",
          "text": [
            "kare_al_wrapper 0.0HAHA\n",
            "[0, 1, 4, 9, 16, 25, 36, 49, 64, 81, 100, 121, 144, 169, 196, 225, 256, 289, 324, 361, 400, 441, 484, 529, 576, 625, 676, 729, 784, 841, 900, 961, 1024, 1089, 1156, 1225, 1296, 1369, 1444, 1521, 1600, 1681, 1764, 1849, 1936, 2025, 2116, 2209, 2304, 2401, 2500, 2601, 2704, 2809, 2916, 3025, 3136, 3249, 3364, 3481, 3600, 3721, 3844, 3969, 4096, 4225, 4356, 4489, 4624, 4761, 4900, 5041, 5184, 5329, 5476, 5625, 5776, 5929, 6084, 6241, 6400, 6561, 6724, 6889, 7056, 7225, 7396, 7569, 7744, 7921, 8100, 8281, 8464, 8649, 8836, 9025, 9216, 9409, 9604, 9801]\n",
            "kup_al_wrapper 0.0HAHA\n",
            "[0, 1, 8, 27, 64, 125, 216, 343, 512, 729, 1000, 1331, 1728, 2197, 2744, 3375, 4096, 4913, 5832, 6859, 8000, 9261, 10648, 12167, 13824, 15625, 17576, 19683, 21952, 24389, 27000, 29791, 32768, 35937, 39304, 42875, 46656, 50653, 54872, 59319, 64000, 68921, 74088, 79507, 85184, 91125, 97336, 103823, 110592, 117649, 125000, 132651, 140608, 148877, 157464, 166375, 175616, 185193, 195112, 205379, 216000, 226981, 238328, 250047, 262144, 274625, 287496, 300763, 314432, 328509, 343000, 357911, 373248, 389017, 405224, 421875, 438976, 456533, 474552, 493039, 512000, 531441, 551368, 571787, 592704, 614125, 636056, 658503, 681472, 704969, 729000, 753571, 778688, 804357, 830584, 857375, 884736, 912673, 941192, 970299]\n"
          ],
          "name": "stdout"
        }
      ]
    },
    {
      "cell_type": "markdown",
      "metadata": {
        "id": "LMJ76N7egNF0",
        "colab_type": "text"
      },
      "source": [
        "# Numpy\n",
        "\n",
        "\n",
        "\n",
        "* Basic library used in scientific calculations\n",
        "\n",
        "* Linear algebra, machine learning, data science\n",
        "\n",
        "* Multi-dimensional arrays\n",
        "\n",
        "* Fast access to multidimensional arrays\n",
        "\n",
        "* The difference from the lists is having a fixed size."
      ]
    },
    {
      "cell_type": "markdown",
      "metadata": {
        "id": "RtXWqrpRgNF1",
        "colab_type": "text"
      },
      "source": [
        "![Scalar Vector Matrix Tensor](https://res.cloudinary.com/practicaldev/image/fetch/s--oTgfo1EL--/c_limit%2Cf_auto%2Cfl_progressive%2Cq_auto%2Cw_880/https://raw.githubusercontent.com/adhiraiyan/DeepLearningWithTF2.0/master/notebooks/figures/fig0201a.png)"
      ]
    },
    {
      "cell_type": "code",
      "metadata": {
        "id": "1E1f20prgNF2",
        "colab_type": "code",
        "colab": {}
      },
      "source": [
        "import numpy as np"
      ],
      "execution_count": null,
      "outputs": []
    },
    {
      "cell_type": "code",
      "metadata": {
        "id": "YzUSn08lgNF5",
        "colab_type": "code",
        "colab": {},
        "outputId": "59ba198f-6e01-4d65-c148-c201713ffe81"
      },
      "source": [
        "a = np.array([10, 20, 30, 40, 50, 60])\n",
        "print(type(a))\n",
        "print(a.shape)"
      ],
      "execution_count": null,
      "outputs": [
        {
          "output_type": "stream",
          "text": [
            "<class 'numpy.ndarray'>\n",
            "(6,)\n"
          ],
          "name": "stdout"
        }
      ]
    },
    {
      "cell_type": "code",
      "metadata": {
        "id": "fNieBy9lgNF7",
        "colab_type": "code",
        "colab": {},
        "outputId": "f6c8cf17-84df-45c8-da81-6aa1fd13e8b2"
      },
      "source": [
        "liste= [1,2,3,4,5]\n",
        "liste[3]"
      ],
      "execution_count": null,
      "outputs": [
        {
          "output_type": "execute_result",
          "data": {
            "text/plain": [
              "4"
            ]
          },
          "metadata": {
            "tags": []
          },
          "execution_count": 106
        }
      ]
    },
    {
      "cell_type": "code",
      "metadata": {
        "id": "lUtQoZ5CgNGA",
        "colab_type": "code",
        "colab": {},
        "outputId": "e64a4f2c-f9fe-4817-88da-276b9dba6b04"
      },
      "source": [
        "print(a[3])"
      ],
      "execution_count": null,
      "outputs": [
        {
          "output_type": "stream",
          "text": [
            "40\n"
          ],
          "name": "stdout"
        }
      ]
    },
    {
      "cell_type": "code",
      "metadata": {
        "id": "g_ADlOshgNGC",
        "colab_type": "code",
        "colab": {},
        "outputId": "9f82c8a0-687e-4d72-83cc-c3517922a0d9"
      },
      "source": [
        "type(a[3])"
      ],
      "execution_count": null,
      "outputs": [
        {
          "output_type": "execute_result",
          "data": {
            "text/plain": [
              "numpy.int32"
            ]
          },
          "metadata": {
            "tags": []
          },
          "execution_count": 108
        }
      ]
    },
    {
      "cell_type": "code",
      "metadata": {
        "id": "j5IHaYQogNGE",
        "colab_type": "code",
        "colab": {},
        "outputId": "7627d81a-039c-49ce-8a4b-c0ef44298f8c"
      },
      "source": [
        "a[2] *= 2\n",
        "print(a[2])"
      ],
      "execution_count": null,
      "outputs": [
        {
          "output_type": "stream",
          "text": [
            "60\n"
          ],
          "name": "stdout"
        }
      ]
    },
    {
      "cell_type": "code",
      "metadata": {
        "id": "9-JKodckgNGI",
        "colab_type": "code",
        "colab": {},
        "outputId": "713f1ec8-c3c5-452d-ed4e-1c697b68d5ff"
      },
      "source": [
        "a"
      ],
      "execution_count": null,
      "outputs": [
        {
          "output_type": "execute_result",
          "data": {
            "text/plain": [
              "array([10, 20, 60, 40, 50, 60])"
            ]
          },
          "metadata": {
            "tags": []
          },
          "execution_count": 110
        }
      ]
    },
    {
      "cell_type": "code",
      "metadata": {
        "id": "HdD5FS5OgNGK",
        "colab_type": "code",
        "colab": {},
        "outputId": "cd4dd04d-5943-4253-aede-6abc939c0814"
      },
      "source": [
        "x = np.array([1,2,3])\n",
        "y = x\n",
        "z = np.copy(x)\n",
        "z"
      ],
      "execution_count": null,
      "outputs": [
        {
          "output_type": "execute_result",
          "data": {
            "text/plain": [
              "array([1, 2, 3])"
            ]
          },
          "metadata": {
            "tags": []
          },
          "execution_count": 112
        }
      ]
    },
    {
      "cell_type": "code",
      "metadata": {
        "id": "Goa0LJyUgNGN",
        "colab_type": "code",
        "colab": {},
        "outputId": "0167f4d6-c10d-4ad9-96f5-f5ef8c588587"
      },
      "source": [
        "x[0] = 10\n",
        "x[0] == y[0]\n",
        "x[0] == z[0]\n",
        "z"
      ],
      "execution_count": null,
      "outputs": [
        {
          "output_type": "execute_result",
          "data": {
            "text/plain": [
              "array([1, 2, 3])"
            ]
          },
          "metadata": {
            "tags": []
          },
          "execution_count": 115
        }
      ]
    },
    {
      "cell_type": "code",
      "metadata": {
        "id": "6YMLV0flgNGQ",
        "colab_type": "code",
        "colab": {},
        "outputId": "e457d9f8-d290-422f-fc1e-6a7729c29063"
      },
      "source": [
        "b = np.array([\n",
        "    [10, 20, 30],\n",
        "    [40, 50, 60]\n",
        "])\n",
        "print(b)\n",
        "print(b.shape)\n",
        "print(b.dtype)\n",
        "print(type(b))"
      ],
      "execution_count": null,
      "outputs": [
        {
          "output_type": "stream",
          "text": [
            "[[10 20 30]\n",
            " [40 50 60]]\n",
            "(2, 3)\n",
            "int32\n",
            "<class 'numpy.ndarray'>\n"
          ],
          "name": "stdout"
        }
      ]
    },
    {
      "cell_type": "code",
      "metadata": {
        "id": "xw3WGix-gNGT",
        "colab_type": "code",
        "colab": {},
        "outputId": "32ece7db-89e2-4f9b-ac5b-6efccbfd733d"
      },
      "source": [
        "a = np.array([10, 20, 30, 40, 50, 180])\n",
        "np.sin(a)"
      ],
      "execution_count": null,
      "outputs": [
        {
          "output_type": "execute_result",
          "data": {
            "text/plain": [
              "array([-0.54402111,  0.91294525, -0.98803162,  0.74511316, -0.26237485,\n",
              "       -0.80115264])"
            ]
          },
          "metadata": {
            "tags": []
          },
          "execution_count": 118
        }
      ]
    },
    {
      "cell_type": "code",
      "metadata": {
        "id": "mTrLuvTWgNGX",
        "colab_type": "code",
        "colab": {},
        "outputId": "5842dba5-73ce-4195-cd17-b2b3f86db442"
      },
      "source": [
        "np.cos(a)"
      ],
      "execution_count": null,
      "outputs": [
        {
          "output_type": "execute_result",
          "data": {
            "text/plain": [
              "array([-0.83907153,  0.40808206,  0.15425145, -0.66693806,  0.96496603,\n",
              "       -0.95241298])"
            ]
          },
          "metadata": {
            "tags": []
          },
          "execution_count": 44
        }
      ]
    },
    {
      "cell_type": "code",
      "metadata": {
        "id": "66Mu5BpmgNGZ",
        "colab_type": "code",
        "colab": {},
        "outputId": "5c27054f-aba5-4021-f325-1cb89c71c2d3"
      },
      "source": [
        "np.log(a)"
      ],
      "execution_count": null,
      "outputs": [
        {
          "output_type": "execute_result",
          "data": {
            "text/plain": [
              "array([2.30258509, 2.99573227, 3.40119738, 3.68887945, 3.91202301,\n",
              "       4.09434456])"
            ]
          },
          "metadata": {
            "tags": []
          },
          "execution_count": 45
        }
      ]
    },
    {
      "cell_type": "code",
      "metadata": {
        "id": "94b_q_magNGc",
        "colab_type": "code",
        "colab": {},
        "outputId": "e4fa8e97-a1f9-4351-cc87-fa927f7bf174"
      },
      "source": [
        "#Calculate the exponential of all elements in the input array\n",
        "np.exp(a)"
      ],
      "execution_count": null,
      "outputs": [
        {
          "output_type": "execute_result",
          "data": {
            "text/plain": [
              "array([2.20264658e+04, 4.85165195e+08, 1.06864746e+13, 2.35385267e+17,\n",
              "       5.18470553e+21, 1.48938420e+78])"
            ]
          },
          "metadata": {
            "tags": []
          },
          "execution_count": 120
        }
      ]
    },
    {
      "cell_type": "code",
      "metadata": {
        "id": "c8RVIlb8gNGe",
        "colab_type": "code",
        "colab": {},
        "outputId": "bdaab969-4aa5-49a8-df39-4f160aedafc1"
      },
      "source": [
        "c = np.array([10, 20, 100, 40, 10, 60])\n",
        "c"
      ],
      "execution_count": null,
      "outputs": [
        {
          "output_type": "execute_result",
          "data": {
            "text/plain": [
              "array([ 10,  20, 100,  40,  10,  60])"
            ]
          },
          "metadata": {
            "tags": []
          },
          "execution_count": 47
        }
      ]
    },
    {
      "cell_type": "code",
      "metadata": {
        "id": "Ama3ZnxlgNGh",
        "colab_type": "code",
        "colab": {},
        "outputId": "d4a2f07a-6e75-40aa-c110-f9ef89ae5554"
      },
      "source": [
        "np.max(c)"
      ],
      "execution_count": null,
      "outputs": [
        {
          "output_type": "execute_result",
          "data": {
            "text/plain": [
              "100"
            ]
          },
          "metadata": {
            "tags": []
          },
          "execution_count": 48
        }
      ]
    },
    {
      "cell_type": "code",
      "metadata": {
        "id": "pFiPxcpigNGj",
        "colab_type": "code",
        "colab": {},
        "outputId": "e6d80f82-1943-4386-ffca-d1b127a3b251"
      },
      "source": [
        "np.min(c)"
      ],
      "execution_count": null,
      "outputs": [
        {
          "output_type": "execute_result",
          "data": {
            "text/plain": [
              "10"
            ]
          },
          "metadata": {
            "tags": []
          },
          "execution_count": 49
        }
      ]
    },
    {
      "cell_type": "code",
      "metadata": {
        "id": "LrJa8J-LgNGn",
        "colab_type": "code",
        "colab": {},
        "outputId": "7ddc5852-cbff-4ce3-dfee-a2b848a8e8f1"
      },
      "source": [
        "#found the index of maximum element\n",
        "np.argmax(c)"
      ],
      "execution_count": null,
      "outputs": [
        {
          "output_type": "execute_result",
          "data": {
            "text/plain": [
              "2"
            ]
          },
          "metadata": {
            "tags": []
          },
          "execution_count": 121
        }
      ]
    },
    {
      "cell_type": "code",
      "metadata": {
        "id": "8QIsyo2_gNGp",
        "colab_type": "code",
        "colab": {},
        "outputId": "6fe29c83-f3ba-4321-bc0d-09ac13a3c290"
      },
      "source": [
        "np.mean(c)"
      ],
      "execution_count": null,
      "outputs": [
        {
          "output_type": "execute_result",
          "data": {
            "text/plain": [
              "40.0"
            ]
          },
          "metadata": {
            "tags": []
          },
          "execution_count": 51
        }
      ]
    },
    {
      "cell_type": "code",
      "metadata": {
        "id": "zSfMsuEMgNGr",
        "colab_type": "code",
        "colab": {},
        "outputId": "0855405d-5df0-4010-d2b6-a62b3aebddce"
      },
      "source": [
        "np.median(c)"
      ],
      "execution_count": null,
      "outputs": [
        {
          "output_type": "execute_result",
          "data": {
            "text/plain": [
              "30.0"
            ]
          },
          "metadata": {
            "tags": []
          },
          "execution_count": 52
        }
      ]
    },
    {
      "cell_type": "code",
      "metadata": {
        "id": "ccrt5IY7gNGt",
        "colab_type": "code",
        "colab": {},
        "outputId": "f548d2e4-55d5-499a-e56c-488612f7d86d"
      },
      "source": [
        "#standard deviation\n",
        "np.std(c)"
      ],
      "execution_count": null,
      "outputs": [
        {
          "output_type": "execute_result",
          "data": {
            "text/plain": [
              "2.997941680718231"
            ]
          },
          "metadata": {
            "tags": []
          },
          "execution_count": 122
        }
      ]
    },
    {
      "cell_type": "code",
      "metadata": {
        "id": "Moi0oNdbgNGv",
        "colab_type": "code",
        "colab": {},
        "outputId": "9e19523e-8381-4cec-b074-3b81ba562ecd"
      },
      "source": [
        "b"
      ],
      "execution_count": null,
      "outputs": [
        {
          "output_type": "execute_result",
          "data": {
            "text/plain": [
              "array([[10, 20, 30],\n",
              "       [40, 50, 60]])"
            ]
          },
          "metadata": {
            "tags": []
          },
          "execution_count": 54
        }
      ]
    },
    {
      "cell_type": "code",
      "metadata": {
        "id": "Yf1gP34igNGz",
        "colab_type": "code",
        "colab": {},
        "outputId": "e3879417-9502-48c9-8083-bec89b4f6c69"
      },
      "source": [
        "# axis=1 => Row\n",
        "# axis=0 => Column\n",
        "np.sum(b, axis = 0)"
      ],
      "execution_count": null,
      "outputs": [
        {
          "output_type": "execute_result",
          "data": {
            "text/plain": [
              "array([50, 70, 90])"
            ]
          },
          "metadata": {
            "tags": []
          },
          "execution_count": 126
        }
      ]
    },
    {
      "cell_type": "code",
      "metadata": {
        "id": "DY6N5YI5gNG2",
        "colab_type": "code",
        "colab": {},
        "outputId": "5e5b87ff-be82-40cc-c568-16847278834b"
      },
      "source": [
        "zeros = np.zeros((3, 3))\n",
        "print(zeros)"
      ],
      "execution_count": null,
      "outputs": [
        {
          "output_type": "stream",
          "text": [
            "[[0. 0. 0.]\n",
            " [0. 0. 0.]\n",
            " [0. 0. 0.]]\n"
          ],
          "name": "stdout"
        }
      ]
    },
    {
      "cell_type": "code",
      "metadata": {
        "id": "4LZhoiOJgNG9",
        "colab_type": "code",
        "colab": {},
        "outputId": "07f063e1-191c-417b-b365-96a20c1a3898"
      },
      "source": [
        "ones = np.ones((3, 3))\n",
        "print(ones)"
      ],
      "execution_count": null,
      "outputs": [
        {
          "output_type": "stream",
          "text": [
            "[[1. 1. 1.]\n",
            " [1. 1. 1.]\n",
            " [1. 1. 1.]]\n"
          ],
          "name": "stdout"
        }
      ]
    },
    {
      "cell_type": "code",
      "metadata": {
        "id": "Ora-kJtIgNHA",
        "colab_type": "code",
        "colab": {},
        "outputId": "7259fb4a-5a44-4fca-ae48-7ae268f4252a"
      },
      "source": [
        "full = np.full((3, 3), 5)\n",
        "print(full)"
      ],
      "execution_count": null,
      "outputs": [
        {
          "output_type": "stream",
          "text": [
            "[[5 5 5]\n",
            " [5 5 5]\n",
            " [5 5 5]]\n"
          ],
          "name": "stdout"
        }
      ]
    },
    {
      "cell_type": "code",
      "metadata": {
        "id": "lHZjlPnlgNHD",
        "colab_type": "code",
        "colab": {},
        "outputId": "412ba12b-ba1d-4e37-f771-728be72f6a95"
      },
      "source": [
        "#Identity matrix n*n\n",
        "eye = np.eye(5)\n",
        "print(eye)"
      ],
      "execution_count": null,
      "outputs": [
        {
          "output_type": "stream",
          "text": [
            "[[1. 0. 0. 0. 0.]\n",
            " [0. 1. 0. 0. 0.]\n",
            " [0. 0. 1. 0. 0.]\n",
            " [0. 0. 0. 1. 0.]\n",
            " [0. 0. 0. 0. 1.]]\n"
          ],
          "name": "stdout"
        }
      ]
    },
    {
      "cell_type": "code",
      "metadata": {
        "id": "SPdqju3sgNHG",
        "colab_type": "code",
        "colab": {},
        "outputId": "1f8e0c12-dc63-4f91-f2e2-3561f7380786"
      },
      "source": [
        "arange = np.arange(7)\n",
        "print(arange)\n",
        "\n",
        "arange = np.arange(0, 10)\n",
        "print(arange)\n",
        "\n",
        "arange = np.arange(0, 10, 2)\n",
        "print(arange)"
      ],
      "execution_count": null,
      "outputs": [
        {
          "output_type": "stream",
          "text": [
            "[0 1 2 3 4 5 6]\n",
            "[0 1 2 3 4 5 6 7 8 9]\n",
            "[0 2 4 6 8]\n"
          ],
          "name": "stdout"
        }
      ]
    },
    {
      "cell_type": "code",
      "metadata": {
        "id": "WlRru3oLgNHM",
        "colab_type": "code",
        "colab": {},
        "outputId": "922b5d98-0643-4df4-b6d3-5bb37cda6665"
      },
      "source": [
        "# Create randint\n",
        "random = np.random.random((3, 3))\n",
        "print(random)"
      ],
      "execution_count": null,
      "outputs": [
        {
          "output_type": "stream",
          "text": [
            "[[0.51118639 0.84087018 0.15037286]\n",
            " [0.66320806 0.89214617 0.07764766]\n",
            " [0.44066875 0.59388301 0.78066343]]\n"
          ],
          "name": "stdout"
        }
      ]
    },
    {
      "cell_type": "code",
      "metadata": {
        "id": "UPmEWjyCgNHQ",
        "colab_type": "code",
        "colab": {},
        "outputId": "d6ea17e3-a458-4846-c813-879f64e3ed2e"
      },
      "source": [
        "arr = np.random.randint(20, size=(5, 5))\n",
        "print(arr)"
      ],
      "execution_count": null,
      "outputs": [
        {
          "output_type": "stream",
          "text": [
            "[[ 0  2 14 17  0]\n",
            " [10  5  2 17  4]\n",
            " [17  5 17  6  4]\n",
            " [12 11  9 13  8]\n",
            " [ 9  1  5  9  0]]\n"
          ],
          "name": "stdout"
        }
      ]
    },
    {
      "cell_type": "code",
      "metadata": {
        "id": "N1qFSPSmgNHT",
        "colab_type": "code",
        "colab": {},
        "outputId": "b3ad9eae-a824-4eae-c5fa-2d35f2a53d53"
      },
      "source": [
        "zeros*6"
      ],
      "execution_count": null,
      "outputs": [
        {
          "output_type": "execute_result",
          "data": {
            "text/plain": [
              "array([[0., 0., 0.],\n",
              "       [0., 0., 0.],\n",
              "       [0., 0., 0.]])"
            ]
          },
          "metadata": {
            "tags": []
          },
          "execution_count": 135
        }
      ]
    },
    {
      "cell_type": "code",
      "metadata": {
        "id": "KU5hSimKgNHW",
        "colab_type": "code",
        "colab": {},
        "outputId": "026e2f87-e130-4a8d-f318-32a02baebe76"
      },
      "source": [
        "arr"
      ],
      "execution_count": null,
      "outputs": [
        {
          "output_type": "execute_result",
          "data": {
            "text/plain": [
              "array([[ 0,  2, 14, 17,  0],\n",
              "       [10,  5,  2, 17,  4],\n",
              "       [17,  5, 17,  6,  4],\n",
              "       [12, 11,  9, 13,  8],\n",
              "       [ 9,  1,  5,  9,  0]])"
            ]
          },
          "metadata": {
            "tags": []
          },
          "execution_count": 136
        }
      ]
    },
    {
      "cell_type": "code",
      "metadata": {
        "id": "SQxx7SyRgNHa",
        "colab_type": "code",
        "colab": {},
        "outputId": "51f0a9fb-0c5e-49ba-c176-1fee7f770756"
      },
      "source": [
        "arr[3,2]"
      ],
      "execution_count": null,
      "outputs": [
        {
          "output_type": "execute_result",
          "data": {
            "text/plain": [
              "9"
            ]
          },
          "metadata": {
            "tags": []
          },
          "execution_count": 138
        }
      ]
    },
    {
      "cell_type": "code",
      "metadata": {
        "id": "j3DT0Y1UgNHe",
        "colab_type": "code",
        "colab": {},
        "outputId": "be29d8e6-b345-4722-982b-edcbd9ae620d"
      },
      "source": [
        "arr[0:3, ::]\n",
        "#arr[satır, sütun]"
      ],
      "execution_count": null,
      "outputs": [
        {
          "output_type": "execute_result",
          "data": {
            "text/plain": [
              "array([[ 0,  2],\n",
              "       [10,  5],\n",
              "       [17,  5]])"
            ]
          },
          "metadata": {
            "tags": []
          },
          "execution_count": 140
        }
      ]
    },
    {
      "cell_type": "code",
      "metadata": {
        "id": "Wk983y2AgNHh",
        "colab_type": "code",
        "colab": {},
        "outputId": "306f3a4d-e468-4681-fe33-af3dd9d70bfb"
      },
      "source": [
        "arr[0:3, :2]"
      ],
      "execution_count": null,
      "outputs": [
        {
          "output_type": "execute_result",
          "data": {
            "text/plain": [
              "array([[ 0,  2],\n",
              "       [10,  5],\n",
              "       [17,  5]])"
            ]
          },
          "metadata": {
            "tags": []
          },
          "execution_count": 141
        }
      ]
    },
    {
      "cell_type": "code",
      "metadata": {
        "id": "iN48uzS4gNHn",
        "colab_type": "code",
        "colab": {},
        "outputId": "ca8726e8-86ef-4d51-aded-4438e6a10799"
      },
      "source": [
        "arr[arr > 10]"
      ],
      "execution_count": null,
      "outputs": [
        {
          "output_type": "execute_result",
          "data": {
            "text/plain": [
              "array([14, 17, 17, 17, 17, 12, 11, 13])"
            ]
          },
          "metadata": {
            "tags": []
          },
          "execution_count": 142
        }
      ]
    },
    {
      "cell_type": "code",
      "metadata": {
        "id": "-K3obNcVgNHr",
        "colab_type": "code",
        "colab": {},
        "outputId": "ffb13040-723f-4a47-c477-76a0473c887d"
      },
      "source": [
        "np.where(arr > 10)"
      ],
      "execution_count": null,
      "outputs": [
        {
          "output_type": "execute_result",
          "data": {
            "text/plain": [
              "(array([0, 0, 0, 0, 1, 1, 1, 1, 2, 3, 3, 4]),\n",
              " array([0, 1, 2, 4, 0, 1, 2, 3, 1, 1, 4, 0]))"
            ]
          },
          "metadata": {
            "tags": []
          },
          "execution_count": 194
        }
      ]
    },
    {
      "cell_type": "code",
      "metadata": {
        "id": "alo7MTizgNHu",
        "colab_type": "code",
        "colab": {},
        "outputId": "65c1e763-4945-4dac-bef1-943fb18567a3"
      },
      "source": [
        "np.array([\n",
        "    [1, 2, 3, 4],\n",
        "    [5, 6, 7, 8],\n",
        "    [9, 10, 11, 12]\n",
        "]).reshape(2,6).shape"
      ],
      "execution_count": null,
      "outputs": [
        {
          "output_type": "execute_result",
          "data": {
            "text/plain": [
              "(2, 6)"
            ]
          },
          "metadata": {
            "tags": []
          },
          "execution_count": 146
        }
      ]
    },
    {
      "cell_type": "code",
      "metadata": {
        "id": "F4C2Qb1FgNHw",
        "colab_type": "code",
        "colab": {},
        "outputId": "80d716b2-4330-491c-a2cc-d9879f70f971"
      },
      "source": [
        "#inverse in lineer algebra\n",
        "c = np.random.randint(10, size=(3, 3))\n",
        "print(c)\n",
        "c_inv = np.linalg.inv(c)\n",
        "print(c_inv)"
      ],
      "execution_count": null,
      "outputs": [
        {
          "output_type": "stream",
          "text": [
            "[[3 1 9]\n",
            " [7 6 5]\n",
            " [0 4 0]]\n",
            "[[-0.10416667  0.1875     -0.25520833]\n",
            " [ 0.          0.          0.25      ]\n",
            " [ 0.14583333 -0.0625      0.05729167]]\n"
          ],
          "name": "stdout"
        }
      ]
    },
    {
      "cell_type": "markdown",
      "metadata": {
        "id": "C3H75XLVgNHy",
        "colab_type": "text"
      },
      "source": [
        "## İç Çarpım (Dot product)\n",
        "![Dot product](https://algebra1course.files.wordpress.com/2013/02/slide10.jpg)\n",
        "\n",
        "credit: https://algebra1course.files.wordpress.com/"
      ]
    },
    {
      "cell_type": "code",
      "metadata": {
        "id": "IjoHpNgzgNH0",
        "colab_type": "code",
        "colab": {},
        "outputId": "df37764f-fde7-4ed8-ab27-6a0ebb68e9a9"
      },
      "source": [
        "a = np.array([\n",
        "    [1, 2, 3],\n",
        "    [4, 5, 6]\n",
        "])\n",
        "print(a.shape)"
      ],
      "execution_count": null,
      "outputs": [
        {
          "output_type": "stream",
          "text": [
            "(2, 3)\n"
          ],
          "name": "stdout"
        }
      ]
    },
    {
      "cell_type": "code",
      "metadata": {
        "id": "eHeAhHsCgNH3",
        "colab_type": "code",
        "colab": {},
        "outputId": "5719c2fd-e8be-4e06-c15a-2cc6892f93a9"
      },
      "source": [
        "b = np.array([\n",
        "    [7, 8, 9],\n",
        "    [10, 11, 12]\n",
        "])\n",
        "print(a.shape)"
      ],
      "execution_count": null,
      "outputs": [
        {
          "output_type": "stream",
          "text": [
            "(2, 3)\n"
          ],
          "name": "stdout"
        }
      ]
    },
    {
      "cell_type": "code",
      "metadata": {
        "id": "q7LOLj75gNH7",
        "colab_type": "code",
        "colab": {},
        "outputId": "f79b40b5-df1a-421d-a17b-57f6b63bf9a8"
      },
      "source": [
        "axb = np.dot(a, b)"
      ],
      "execution_count": null,
      "outputs": [
        {
          "output_type": "error",
          "ename": "ValueError",
          "evalue": "shapes (2,3) and (2,3) not aligned: 3 (dim 1) != 2 (dim 0)",
          "traceback": [
            "\u001b[1;31m---------------------------------------------------------------------------\u001b[0m",
            "\u001b[1;31mValueError\u001b[0m                                Traceback (most recent call last)",
            "\u001b[1;32m<ipython-input-149-4eecf7a22330>\u001b[0m in \u001b[0;36m<module>\u001b[1;34m\u001b[0m\n\u001b[1;32m----> 1\u001b[1;33m \u001b[0maxb\u001b[0m \u001b[1;33m=\u001b[0m \u001b[0mnp\u001b[0m\u001b[1;33m.\u001b[0m\u001b[0mdot\u001b[0m\u001b[1;33m(\u001b[0m\u001b[0ma\u001b[0m\u001b[1;33m,\u001b[0m \u001b[0mb\u001b[0m\u001b[1;33m)\u001b[0m\u001b[1;33m\u001b[0m\u001b[1;33m\u001b[0m\u001b[0m\n\u001b[0m",
            "\u001b[1;32m<__array_function__ internals>\u001b[0m in \u001b[0;36mdot\u001b[1;34m(*args, **kwargs)\u001b[0m\n",
            "\u001b[1;31mValueError\u001b[0m: shapes (2,3) and (2,3) not aligned: 3 (dim 1) != 2 (dim 0)"
          ]
        }
      ]
    },
    {
      "cell_type": "code",
      "metadata": {
        "id": "A6nE7X7HgNH_",
        "colab_type": "code",
        "colab": {},
        "outputId": "27945b52-4715-4463-d441-6f96f8e4e8f8"
      },
      "source": [
        "# Transpose\n",
        "(b.T).shape"
      ],
      "execution_count": null,
      "outputs": [
        {
          "output_type": "execute_result",
          "data": {
            "text/plain": [
              "(3, 2)"
            ]
          },
          "metadata": {
            "tags": []
          },
          "execution_count": 150
        }
      ]
    },
    {
      "cell_type": "code",
      "metadata": {
        "id": "PpIYbx3ugNIB",
        "colab_type": "code",
        "colab": {},
        "outputId": "2f004b3d-2a23-4c74-c997-9f8deedf6195"
      },
      "source": [
        "axb = np.dot(a, b.T)\n",
        "print(axb)\n",
        "print(axb.shape)"
      ],
      "execution_count": null,
      "outputs": [
        {
          "output_type": "stream",
          "text": [
            "[[ 50  68]\n",
            " [122 167]]\n",
            "(2, 2)\n"
          ],
          "name": "stdout"
        }
      ]
    },
    {
      "cell_type": "code",
      "metadata": {
        "id": "1ZrWhZAGgNID",
        "colab_type": "code",
        "colab": {}
      },
      "source": [
        ""
      ],
      "execution_count": null,
      "outputs": []
    }
  ]
}