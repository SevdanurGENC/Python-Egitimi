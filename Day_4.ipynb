{
 "cells": [
  {
   "cell_type": "markdown",
   "metadata": {
    "colab_type": "text",
    "id": "9NqX9G3F8uZQ"
   },
   "source": [
    "###Modüller\n",
    "\n",
    "Bazı işlevleri kolaylıkla yerine getirmemizi sağlayan birtakım fonksiyonları ve nitelikleri içinde barındıran araçlardır. Barındırdığı bu fonksiyonları farklı dosyalar ve programlar içinde tekrar tekrar kullanma imkanı sağlar. Modüller sayesinde Python çok daha kullanışlı ve uygulaması kolay bir dil haline gelmiştir.\n",
    "\n",
    "Python’da herhangi bir modülü kullanabilmek için öncelikle onu ‘içe aktarmamız’ gerekir. İçe aktarmak, bir modül içindeki fonksiyon ve nitelikleri başka bir program içinden kullanılabilir hale getirmek demektir.\n",
    "\n",
    "**import <modül_adı>**"
   ]
  },
  {
   "cell_type": "code",
   "execution_count": null,
   "metadata": {
    "colab": {
     "base_uri": "https://localhost:8080/",
     "height": 141
    },
    "colab_type": "code",
    "id": "MDmE3VeY2BUv",
    "outputId": "351b4ba3-b5a3-42ee-8d6c-c054ac84366b"
   },
   "outputs": [],
   "source": [
    "import random \n",
    "\n",
    "\n",
    "gizli = rnd.randint(1, 100)\n",
    "\n",
    "check = False\n",
    "\n",
    "#tahmin = int(input(\"Bir tahmin giriniz:\"))\n",
    "\n",
    "for x in range(5):\n",
    "  tahmin = int(input(\"Bir tahmin giriniz:\"))\n",
    "  if tahmin == gizli:\n",
    "    print(\"Tebrikler\")\n",
    "    check = True\n",
    "    break\n",
    "  elif tahmin < gizli:\n",
    "    print(\"Daha büyük bir sayı giriniz!!\")\n",
    "  else:\n",
    "    print(\"Daha küçük bir sayı giriniz!!\")\n",
    "    \n",
    "if not check:\n",
    "  print(\"Bilemediniz, belirlenen sayı: \", gizli)"
   ]
  },
  {
   "cell_type": "markdown",
   "metadata": {
    "colab_type": "text",
    "id": "IdVXxCBHJ07g"
   },
   "source": [
    "#Sözlükler (Dictionary)\n",
    "\n",
    "\n",
    "\n",
    "*   Python'daki bir veri tipi.\n",
    "*   Sözlükler,anahtarlar (keys) tarafından indexlenir ve bu anahtarlar String ve sayı tipinde olabilir.\n",
    "*   key:value şeklinde yazılır ve key ler benzersiz (unique) değerlerdir.\n",
    "*   {}\n",
    "\n",
    "\n",
    "\n"
   ]
  },
  {
   "cell_type": "code",
   "execution_count": 6,
   "metadata": {
    "colab": {
     "base_uri": "https://localhost:8080/",
     "height": 35
    },
    "colab_type": "code",
    "id": "YHFeM7PaLiqh",
    "outputId": "82243a91-f51b-4cf4-a6fb-ebaf956bcc47"
   },
   "outputs": [
    {
     "name": "stdout",
     "output_type": "stream",
     "text": [
      "{}\n"
     ]
    }
   ],
   "source": [
    "d = {}\n",
    "\n",
    "print(d)"
   ]
  },
  {
   "cell_type": "code",
   "execution_count": 3,
   "metadata": {
    "colab": {
     "base_uri": "https://localhost:8080/",
     "height": 35
    },
    "colab_type": "code",
    "id": "n5qcMd-GLsKa",
    "outputId": "b93ee552-50e7-49ba-cc11-8d09887643f1"
   },
   "outputs": [
    {
     "name": "stdout",
     "output_type": "stream",
     "text": [
      "{'python': 1, 'course': 2}\n"
     ]
    }
   ],
   "source": [
    "d = {\"python\":1, \"course\":2}\n",
    "print(d)"
   ]
  },
  {
   "cell_type": "code",
   "execution_count": 10,
   "metadata": {
    "colab": {
     "base_uri": "https://localhost:8080/",
     "height": 35
    },
    "colab_type": "code",
    "id": "EX9oMWnHL7fq",
    "outputId": "011a543e-a1fa-4d88-d8e8-822e4a806955"
   },
   "outputs": [
    {
     "data": {
      "text/plain": [
       "{'machine': 'learning', 'artificial': 'intelligence'}"
      ]
     },
     "execution_count": 10,
     "metadata": {},
     "output_type": "execute_result"
    }
   ],
   "source": [
    "d2 = {\"machine\":\"learning\", \"artificial\":\"intelligence\" }\n",
    "d2"
   ]
  },
  {
   "cell_type": "code",
   "execution_count": 5,
   "metadata": {
    "colab": {
     "base_uri": "https://localhost:8080/",
     "height": 36
    },
    "colab_type": "code",
    "id": "eckt9hWHMKyB",
    "outputId": "2574c92e-966b-4f7a-faf9-b6b782bda0b4"
   },
   "outputs": [
    {
     "data": {
      "text/plain": [
       "'intelligence'"
      ]
     },
     "execution_count": 5,
     "metadata": {},
     "output_type": "execute_result"
    }
   ],
   "source": [
    "d2[\"artificial\"]"
   ]
  },
  {
   "cell_type": "code",
   "execution_count": 119,
   "metadata": {
    "colab": {
     "base_uri": "https://localhost:8080/",
     "height": 35
    },
    "colab_type": "code",
    "id": "EtB2gyEmMWjy",
    "outputId": "f16e2223-550d-401d-b669-228d34ce8982"
   },
   "outputs": [
    {
     "data": {
      "text/plain": [
       "2"
      ]
     },
     "execution_count": 119,
     "metadata": {
      "tags": []
     },
     "output_type": "execute_result"
    }
   ],
   "source": [
    "d[\"course\"]"
   ]
  },
  {
   "cell_type": "code",
   "execution_count": 13,
   "metadata": {
    "colab": {
     "base_uri": "https://localhost:8080/",
     "height": 35
    },
    "colab_type": "code",
    "id": "t2flZAV2NIIq",
    "outputId": "9ee61c7c-b81b-4965-d128-fdb44d16e691"
   },
   "outputs": [
    {
     "data": {
      "text/plain": [
       "{'machine': 'learning', 'artificial': 'intelligence', 'deep': 'learning'}"
      ]
     },
     "execution_count": 13,
     "metadata": {},
     "output_type": "execute_result"
    }
   ],
   "source": [
    "d2[\"deep\"] = \"learning\"\n",
    "d2\n",
    "#print(d2)"
   ]
  },
  {
   "cell_type": "code",
   "execution_count": 6,
   "metadata": {
    "colab": {
     "base_uri": "https://localhost:8080/",
     "height": 35
    },
    "colab_type": "code",
    "id": "ntLDke2enyh6",
    "outputId": "e64c7450-f5cb-4ef4-ac96-c32e702e799d"
   },
   "outputs": [
    {
     "name": "stdout",
     "output_type": "stream",
     "text": [
      "dict_keys(['python', 'course'])\n"
     ]
    }
   ],
   "source": [
    "print(d.keys())"
   ]
  },
  {
   "cell_type": "code",
   "execution_count": 125,
   "metadata": {
    "colab": {
     "base_uri": "https://localhost:8080/",
     "height": 35
    },
    "colab_type": "code",
    "id": "RRCll5K-oEW6",
    "outputId": "ca0a5e9d-4b4c-4f91-fc2e-6581f76dc6f2"
   },
   "outputs": [
    {
     "data": {
      "text/plain": [
       "dict_values(['learning', 'intelligence', 'learning'])"
      ]
     },
     "execution_count": 125,
     "metadata": {
      "tags": []
     },
     "output_type": "execute_result"
    }
   ],
   "source": [
    "d2.values()"
   ]
  },
  {
   "cell_type": "code",
   "execution_count": 126,
   "metadata": {
    "colab": {
     "base_uri": "https://localhost:8080/",
     "height": 35
    },
    "colab_type": "code",
    "id": "YYzF_DyGoHWm",
    "outputId": "efa04009-abdf-40e1-d177-cb046ff201b7"
   },
   "outputs": [
    {
     "data": {
      "text/plain": [
       "dict_items([('machine', 'learning'), ('artificial', 'intelligence'), ('deep', 'learning')])"
      ]
     },
     "execution_count": 126,
     "metadata": {
      "tags": []
     },
     "output_type": "execute_result"
    }
   ],
   "source": [
    "d2.items()"
   ]
  },
  {
   "cell_type": "code",
   "execution_count": 127,
   "metadata": {
    "colab": {
     "base_uri": "https://localhost:8080/",
     "height": 70
    },
    "colab_type": "code",
    "id": "rcKOifmfoap9",
    "outputId": "fdea2f68-ed1b-45c2-ba42-54e7e56b2ae4"
   },
   "outputs": [
    {
     "name": "stdout",
     "output_type": "stream",
     "text": [
      "machine\n",
      "artificial\n",
      "deep\n"
     ]
    }
   ],
   "source": [
    "for k in d2.keys():\n",
    "  print(k)\n"
   ]
  },
  {
   "cell_type": "code",
   "execution_count": 128,
   "metadata": {
    "colab": {
     "base_uri": "https://localhost:8080/",
     "height": 52
    },
    "colab_type": "code",
    "id": "bhSGEUT5oqc3",
    "outputId": "c72bb74e-5010-476f-a289-f63ff4e68572"
   },
   "outputs": [
    {
     "name": "stdout",
     "output_type": "stream",
     "text": [
      "1\n",
      "2\n"
     ]
    }
   ],
   "source": [
    "for v in d.values():\n",
    "  print(v)"
   ]
  },
  {
   "cell_type": "code",
   "execution_count": 129,
   "metadata": {
    "colab": {
     "base_uri": "https://localhost:8080/",
     "height": 70
    },
    "colab_type": "code",
    "id": "j5Oyr1AFpC4f",
    "outputId": "98ea8ef2-915c-4dd4-d0c9-d5987b97b12d"
   },
   "outputs": [
    {
     "name": "stdout",
     "output_type": "stream",
     "text": [
      "machine learning\n",
      "artificial intelligence\n",
      "deep learning\n"
     ]
    }
   ],
   "source": [
    "for k,v in d2.items():\n",
    "  print(k,v)"
   ]
  },
  {
   "cell_type": "code",
   "execution_count": 130,
   "metadata": {
    "colab": {
     "base_uri": "https://localhost:8080/",
     "height": 35
    },
    "colab_type": "code",
    "id": "ffQvbfgepJVv",
    "outputId": "12edae3a-2b66-4279-e6fc-10c4f9d005b1"
   },
   "outputs": [
    {
     "name": "stdout",
     "output_type": "stream",
     "text": [
      "course\n"
     ]
    }
   ],
   "source": [
    "for k,v in d.items():\n",
    "  if v == 2:\n",
    "    print(k)"
   ]
  },
  {
   "cell_type": "code",
   "execution_count": 131,
   "metadata": {
    "colab": {
     "base_uri": "https://localhost:8080/",
     "height": 35
    },
    "colab_type": "code",
    "id": "fmxKFTs4pqwP",
    "outputId": "ed84dd19-da07-4772-bacf-be7d9f95e991"
   },
   "outputs": [
    {
     "data": {
      "text/plain": [
       "{'course': 2, 'python': 1}"
      ]
     },
     "execution_count": 131,
     "metadata": {
      "tags": []
     },
     "output_type": "execute_result"
    }
   ],
   "source": [
    "d"
   ]
  },
  {
   "cell_type": "code",
   "execution_count": 132,
   "metadata": {
    "colab": {
     "base_uri": "https://localhost:8080/",
     "height": 35
    },
    "colab_type": "code",
    "id": "iy6FAQxHpt6Q",
    "outputId": "a59e0324-fb84-4c14-e723-2e535c09105c"
   },
   "outputs": [
    {
     "data": {
      "text/plain": [
       "{'a': [3, 4, 5], 'course': 2, 'python': 1}"
      ]
     },
     "execution_count": 132,
     "metadata": {
      "tags": []
     },
     "output_type": "execute_result"
    }
   ],
   "source": [
    "d[\"a\"] = [3,4,5]\n",
    "d"
   ]
  },
  {
   "cell_type": "code",
   "execution_count": 133,
   "metadata": {
    "colab": {
     "base_uri": "https://localhost:8080/",
     "height": 35
    },
    "colab_type": "code",
    "id": "AINo_32Upzyv",
    "outputId": "81ed10a8-59f8-4d29-afc5-f81281ae6541"
   },
   "outputs": [
    {
     "data": {
      "text/plain": [
       "{'a': [3, 4, 5], 'course': 2}"
      ]
     },
     "execution_count": 133,
     "metadata": {
      "tags": []
     },
     "output_type": "execute_result"
    }
   ],
   "source": [
    "d.pop(\"python\")\n",
    "d"
   ]
  },
  {
   "cell_type": "code",
   "execution_count": 134,
   "metadata": {
    "colab": {
     "base_uri": "https://localhost:8080/",
     "height": 35
    },
    "colab_type": "code",
    "id": "U8QBwgp0sSJi",
    "outputId": "4f9ed760-c159-42e8-8a03-79180334dd79"
   },
   "outputs": [
    {
     "data": {
      "text/plain": [
       "2"
      ]
     },
     "execution_count": 134,
     "metadata": {
      "tags": []
     },
     "output_type": "execute_result"
    }
   ],
   "source": [
    "len(d)"
   ]
  },
  {
   "cell_type": "code",
   "execution_count": 135,
   "metadata": {
    "colab": {
     "base_uri": "https://localhost:8080/",
     "height": 35
    },
    "colab_type": "code",
    "id": "89k7tFi_sWJO",
    "outputId": "ac845006-5d16-42f4-f51d-e974b74e4be8"
   },
   "outputs": [
    {
     "data": {
      "text/plain": [
       "True"
      ]
     },
     "execution_count": 135,
     "metadata": {
      "tags": []
     },
     "output_type": "execute_result"
    }
   ],
   "source": [
    "\"a\" in d"
   ]
  },
  {
   "cell_type": "code",
   "execution_count": 8,
   "metadata": {
    "colab": {
     "base_uri": "https://localhost:8080/",
     "height": 35
    },
    "colab_type": "code",
    "id": "XdyIf0L1sYRM",
    "outputId": "bc09b449-a697-4c67-8ed4-e28ad9b6b118"
   },
   "outputs": [
    {
     "data": {
      "text/plain": [
       "False"
      ]
     },
     "execution_count": 8,
     "metadata": {},
     "output_type": "execute_result"
    }
   ],
   "source": [
    "\"aa\" in d"
   ]
  },
  {
   "cell_type": "code",
   "execution_count": 14,
   "metadata": {
    "colab": {
     "base_uri": "https://localhost:8080/",
     "height": 35
    },
    "colab_type": "code",
    "id": "oJvHWYyouN9w",
    "outputId": "c495cd2c-67ce-466d-82e4-7d47ec3a6fbf"
   },
   "outputs": [
    {
     "data": {
      "text/plain": [
       "{'machine': 'learning', 'artificial': 'intelligence', 'deep': 'learning'}"
      ]
     },
     "execution_count": 14,
     "metadata": {},
     "output_type": "execute_result"
    }
   ],
   "source": [
    "d2"
   ]
  },
  {
   "cell_type": "code",
   "execution_count": 138,
   "metadata": {
    "colab": {
     "base_uri": "https://localhost:8080/",
     "height": 36
    },
    "colab_type": "code",
    "id": "uAtvUx9Jsf0w",
    "outputId": "d29e5cc0-99f0-4bb7-e5e3-4a625922c45b"
   },
   "outputs": [
    {
     "data": {
      "application/vnd.google.colaboratory.intrinsic+json": {
       "type": "string"
      },
      "text/plain": [
       "'intelligence'"
      ]
     },
     "execution_count": 138,
     "metadata": {
      "tags": []
     },
     "output_type": "execute_result"
    }
   ],
   "source": [
    "d2.get(\"artificial\")"
   ]
  },
  {
   "cell_type": "code",
   "execution_count": 15,
   "metadata": {
    "colab": {},
    "colab_type": "code",
    "id": "GobxPk3fuWi2"
   },
   "outputs": [],
   "source": [
    "d2.get(\"gizem\")"
   ]
  },
  {
   "cell_type": "code",
   "execution_count": 16,
   "metadata": {
    "colab": {
     "base_uri": "https://localhost:8080/",
     "height": 35
    },
    "colab_type": "code",
    "id": "nyH6npGYuhRD",
    "outputId": "b5a8ef56-c1cb-449b-9903-c426bb8c9fc7"
   },
   "outputs": [
    {
     "data": {
      "text/plain": [
       "{'machine': 'learning', 'artificial': 'intelligence'}"
      ]
     },
     "execution_count": 16,
     "metadata": {},
     "output_type": "execute_result"
    }
   ],
   "source": [
    "del d2[\"deep\"]\n",
    "d2"
   ]
  },
  {
   "cell_type": "code",
   "execution_count": 142,
   "metadata": {
    "colab": {
     "base_uri": "https://localhost:8080/",
     "height": 124
    },
    "colab_type": "code",
    "id": "rED5dTIhvSO6",
    "outputId": "0ad1b7da-8b6d-45ed-c324-7919c30ae999"
   },
   "outputs": [
    {
     "name": "stdout",
     "output_type": "stream",
     "text": [
      "insan canlısının 2 adet ayağı bulunur\n",
      "insan canlısının 2 adet ayağı bulunur.\n",
      "kedi canlısının 4 adet ayağı bulunur\n",
      "kedi canlısının 4 adet ayağı bulunur.\n",
      "örümcek canlısının 8 adet ayağı bulunur\n",
      "örümcek canlısının 8 adet ayağı bulunur.\n"
     ]
    }
   ],
   "source": [
    "d4 = {\"insan\":2, \"kedi\":4, \"örümcek\":8}\n",
    "\n",
    "for i in d4:\n",
    "  ayak = d4[i]\n",
    "  print(\"%s canlısının %d adet ayağı bulunur\" % (i,ayak))\n",
    "  print(str(i) + \" canlısının \" + str(ayak) +\" adet ayağı bulunur.\")"
   ]
  },
  {
   "cell_type": "code",
   "execution_count": 144,
   "metadata": {
    "colab": {
     "base_uri": "https://localhost:8080/",
     "height": 70
    },
    "colab_type": "code",
    "id": "CGzBpPlgwUTX",
    "outputId": "fa668070-d5d3-44ec-90ea-c510952324a0"
   },
   "outputs": [
    {
     "name": "stdout",
     "output_type": "stream",
     "text": [
      "insan canlısının 2 adet ayağı bulunur.\n",
      "kedi canlısının 4 adet ayağı bulunur.\n",
      "örümcek canlısının 8 adet ayağı bulunur.\n"
     ]
    }
   ],
   "source": [
    "d4 = {\"insan\":2, \"kedi\":4, \"örümcek\":8}\n",
    "\n",
    "for i,ayak in d4.items():\n",
    "  print(str(i) + \" canlısının \" + str(ayak) +\" adet ayağı bulunur.\")"
   ]
  },
  {
   "cell_type": "code",
   "execution_count": 145,
   "metadata": {
    "colab": {},
    "colab_type": "code",
    "id": "SZia6YVqwfNU"
   },
   "outputs": [],
   "source": [
    "ilceler = {\"İstanbul\":[\"Bostancı\", \"Beşiktaş\", \"Kadıköy\"], \n",
    "           \"Ankara\":[\"Çankaya\", \"Gölbaşı\", \"Kızılcahamam\"],\n",
    "           \"İzmir\":[\"Çeşme\",\"Bornova\",\"Foça\"]}"
   ]
  },
  {
   "cell_type": "code",
   "execution_count": 146,
   "metadata": {
    "colab": {
     "base_uri": "https://localhost:8080/",
     "height": 35
    },
    "colab_type": "code",
    "id": "4HyiNDwcwfAD",
    "outputId": "a86d855c-34d6-4fc9-8e7e-41e9a86886d5"
   },
   "outputs": [
    {
     "data": {
      "text/plain": [
       "['Bostancı', 'Beşiktaş', 'Kadıköy']"
      ]
     },
     "execution_count": 146,
     "metadata": {
      "tags": []
     },
     "output_type": "execute_result"
    }
   ],
   "source": [
    "ilceler[\"İstanbul\"]"
   ]
  },
  {
   "cell_type": "code",
   "execution_count": 147,
   "metadata": {
    "colab": {
     "base_uri": "https://localhost:8080/",
     "height": 35
    },
    "colab_type": "code",
    "id": "CMpXSAUuxmmB",
    "outputId": "38b5e335-106e-42b7-c858-ce434d89d35e"
   },
   "outputs": [
    {
     "data": {
      "text/plain": [
       "dict"
      ]
     },
     "execution_count": 147,
     "metadata": {
      "tags": []
     },
     "output_type": "execute_result"
    }
   ],
   "source": [
    "type(ilceler)"
   ]
  },
  {
   "cell_type": "code",
   "execution_count": 148,
   "metadata": {
    "colab": {
     "base_uri": "https://localhost:8080/",
     "height": 35
    },
    "colab_type": "code",
    "id": "yOyreuu_xqgL",
    "outputId": "87123a0c-a302-4bd5-a654-8068fd82540d"
   },
   "outputs": [
    {
     "data": {
      "text/plain": [
       "list"
      ]
     },
     "execution_count": 148,
     "metadata": {
      "tags": []
     },
     "output_type": "execute_result"
    }
   ],
   "source": [
    "type(ilceler[\"Ankara\"])"
   ]
  },
  {
   "cell_type": "code",
   "execution_count": 149,
   "metadata": {
    "colab": {
     "base_uri": "https://localhost:8080/",
     "height": 36
    },
    "colab_type": "code",
    "id": "jTxblvirxu9I",
    "outputId": "d36d9562-0810-4db1-9518-22c5345cae09"
   },
   "outputs": [
    {
     "data": {
      "application/vnd.google.colaboratory.intrinsic+json": {
       "type": "string"
      },
      "text/plain": [
       "'Çeşme'"
      ]
     },
     "execution_count": 149,
     "metadata": {
      "tags": []
     },
     "output_type": "execute_result"
    }
   ],
   "source": [
    "ilceler[\"İzmir\"][0]"
   ]
  },
  {
   "cell_type": "code",
   "execution_count": 150,
   "metadata": {
    "colab": {
     "base_uri": "https://localhost:8080/",
     "height": 36
    },
    "colab_type": "code",
    "id": "b2gxQlCvyMcq",
    "outputId": "6aaa7b71-8b1c-4ea7-e638-5e4ea791648d"
   },
   "outputs": [
    {
     "data": {
      "application/vnd.google.colaboratory.intrinsic+json": {
       "type": "string"
      },
      "text/plain": [
       "'Foça'"
      ]
     },
     "execution_count": 150,
     "metadata": {
      "tags": []
     },
     "output_type": "execute_result"
    }
   ],
   "source": [
    "ilceler[\"İzmir\"][2]"
   ]
  },
  {
   "cell_type": "markdown",
   "metadata": {
    "colab_type": "text",
    "id": "Ak4uMk3pzHZI"
   },
   "source": [
    "#Kümeler (Sets)\n",
    "\n",
    "\n",
    "*   Bir küme, listelerden farklı olarak, belli bir sırası bulunmayan bir veri topluluğudur; elemanlarına indexleme ile erişilemez.\n",
    "*   Tıpkı matematiksel kümeler gibi, aynı elemandan birden fazla barındıramaz. \n",
    "\n",
    "*   Kümeler içerisine bir öğe ancak bir defa eklenebilir. Yani bir küme iki\n",
    "aynı elemana sahip olamaz.\n",
    "*   Boş küme oluşturmak için set() fonksiyonunu kullanıyoruz.\n",
    "\n",
    "\n",
    "\n",
    "\n",
    "\n"
   ]
  },
  {
   "cell_type": "code",
   "execution_count": 152,
   "metadata": {
    "colab": {
     "base_uri": "https://localhost:8080/",
     "height": 35
    },
    "colab_type": "code",
    "id": "QgZuDyx3yvn9",
    "outputId": "5661fe2b-3797-4b21-f74f-a5d733a64ad0"
   },
   "outputs": [
    {
     "data": {
      "text/plain": [
       "{5, 6, 8, 'abc', 'python'}"
      ]
     },
     "execution_count": 152,
     "metadata": {
      "tags": []
     },
     "output_type": "execute_result"
    }
   ],
   "source": [
    "s = {\"python\", 5,6,8,5,6,\"abc\", \"python\"}\n",
    "s"
   ]
  },
  {
   "cell_type": "code",
   "execution_count": 154,
   "metadata": {
    "colab": {
     "base_uri": "https://localhost:8080/",
     "height": 35
    },
    "colab_type": "code",
    "id": "KmzyF9b--0Ci",
    "outputId": "0fd6f24f-f616-40e2-da1e-ea76843cbcd7"
   },
   "outputs": [
    {
     "data": {
      "text/plain": [
       "set"
      ]
     },
     "execution_count": 154,
     "metadata": {
      "tags": []
     },
     "output_type": "execute_result"
    }
   ],
   "source": [
    "bos = set()\n",
    "type(bos)"
   ]
  },
  {
   "cell_type": "code",
   "execution_count": 153,
   "metadata": {
    "colab": {
     "base_uri": "https://localhost:8080/",
     "height": 35
    },
    "colab_type": "code",
    "id": "8qLJrT9VAUvf",
    "outputId": "49d3a738-03e5-45f9-a284-eab1cd844848"
   },
   "outputs": [
    {
     "data": {
      "text/plain": [
       "dict"
      ]
     },
     "execution_count": 153,
     "metadata": {
      "tags": []
     },
     "output_type": "execute_result"
    }
   ],
   "source": [
    "bos2 = {}\n",
    "type(bos2)"
   ]
  },
  {
   "cell_type": "code",
   "execution_count": 23,
   "metadata": {
    "colab": {
     "base_uri": "https://localhost:8080/",
     "height": 35
    },
    "colab_type": "code",
    "id": "cH4PCXOhAZpS",
    "outputId": "4de26760-75fc-49bc-dae2-a1b72febd89d"
   },
   "outputs": [
    {
     "name": "stdout",
     "output_type": "stream",
     "text": [
      "{'python', 5, 6, 8, 'abc'}\n"
     ]
    },
    {
     "data": {
      "text/plain": [
       "set"
      ]
     },
     "execution_count": 23,
     "metadata": {},
     "output_type": "execute_result"
    }
   ],
   "source": [
    "s2 = set([\"python\", 5,6,8,5,6,\"abc\", \"python\"])\n",
    "print(s2)\n",
    "type(s2)"
   ]
  },
  {
   "cell_type": "code",
   "execution_count": 21,
   "metadata": {
    "colab": {
     "base_uri": "https://localhost:8080/",
     "height": 52
    },
    "colab_type": "code",
    "id": "TLu1Ec_bA__q",
    "outputId": "589fc732-30b1-4055-c84b-5293450f6eef"
   },
   "outputs": [
    {
     "name": "stdout",
     "output_type": "stream",
     "text": [
      "{'a', 'n', 's'}\n"
     ]
    }
   ],
   "source": [
    "an = set(\"ananas\")\n",
    "print(an)"
   ]
  },
  {
   "cell_type": "code",
   "execution_count": 18,
   "metadata": {
    "colab": {
     "base_uri": "https://localhost:8080/",
     "height": 186
    },
    "colab_type": "code",
    "id": "JEA3fgi7BXBR",
    "outputId": "ffaeb6f0-240c-4dea-a179-4b98c7051dca"
   },
   "outputs": [
    {
     "ename": "TypeError",
     "evalue": "unhashable type: 'list'",
     "output_type": "error",
     "traceback": [
      "\u001b[0;31m---------------------------------------------------------------------------\u001b[0m",
      "\u001b[0;31mTypeError\u001b[0m                                 Traceback (most recent call last)",
      "\u001b[0;32m<ipython-input-18-215d4652bbe6>\u001b[0m in \u001b[0;36m<module>\u001b[0;34m\u001b[0m\n\u001b[0;32m----> 1\u001b[0;31m \u001b[0my\u001b[0m \u001b[0;34m=\u001b[0m \u001b[0;34m{\u001b[0m\u001b[0;34m\"a\"\u001b[0m\u001b[0;34m,\u001b[0m\u001b[0;34m\"b\"\u001b[0m\u001b[0;34m,\u001b[0m\u001b[0;34m[\u001b[0m\u001b[0;36m1\u001b[0m\u001b[0;34m,\u001b[0m\u001b[0;36m2\u001b[0m\u001b[0;34m,\u001b[0m\u001b[0;36m3\u001b[0m\u001b[0;34m]\u001b[0m\u001b[0;34m,\u001b[0m\u001b[0;36m5\u001b[0m\u001b[0;34m,\u001b[0m\u001b[0;36m6\u001b[0m\u001b[0;34m}\u001b[0m\u001b[0;34m\u001b[0m\u001b[0;34m\u001b[0m\u001b[0m\n\u001b[0m\u001b[1;32m      2\u001b[0m \u001b[0mprint\u001b[0m\u001b[0;34m(\u001b[0m\u001b[0my\u001b[0m\u001b[0;34m)\u001b[0m\u001b[0;34m\u001b[0m\u001b[0;34m\u001b[0m\u001b[0m\n",
      "\u001b[0;31mTypeError\u001b[0m: unhashable type: 'list'"
     ]
    }
   ],
   "source": [
    "y = {\"a\",\"b\",[1,2,3],5,6}\n",
    "print(y)"
   ]
  },
  {
   "cell_type": "code",
   "execution_count": 24,
   "metadata": {
    "colab": {
     "base_uri": "https://localhost:8080/",
     "height": 35
    },
    "colab_type": "code",
    "id": "WNZzrXshBy-0",
    "outputId": "7683a43d-ecba-44c9-bb94-c53a70bba02d"
   },
   "outputs": [
    {
     "data": {
      "text/plain": [
       "{5, 6, 8, 'abc', 'python'}"
      ]
     },
     "execution_count": 24,
     "metadata": {},
     "output_type": "execute_result"
    }
   ],
   "source": [
    "s2"
   ]
  },
  {
   "cell_type": "code",
   "execution_count": 25,
   "metadata": {
    "colab": {
     "base_uri": "https://localhost:8080/",
     "height": 35
    },
    "colab_type": "code",
    "id": "k1IVnwKEB0Wn",
    "outputId": "c7eefb52-3522-4954-f90a-b7cdc30e4ee2"
   },
   "outputs": [
    {
     "data": {
      "text/plain": [
       "True"
      ]
     },
     "execution_count": 25,
     "metadata": {},
     "output_type": "execute_result"
    }
   ],
   "source": [
    "6 in s2"
   ]
  },
  {
   "cell_type": "code",
   "execution_count": 26,
   "metadata": {
    "colab": {
     "base_uri": "https://localhost:8080/",
     "height": 35
    },
    "colab_type": "code",
    "id": "GUtmrwfhB2mj",
    "outputId": "d52e785c-6aa7-4397-ed56-a0599cdbe4f5"
   },
   "outputs": [
    {
     "data": {
      "text/plain": [
       "False"
      ]
     },
     "execution_count": 26,
     "metadata": {},
     "output_type": "execute_result"
    }
   ],
   "source": [
    "9 in s2"
   ]
  },
  {
   "cell_type": "code",
   "execution_count": 27,
   "metadata": {
    "colab": {
     "base_uri": "https://localhost:8080/",
     "height": 35
    },
    "colab_type": "code",
    "id": "lPvxuypLB4Pg",
    "outputId": "f13d4e43-966b-4b31-8bdc-12093592e187"
   },
   "outputs": [
    {
     "data": {
      "text/plain": [
       "5"
      ]
     },
     "execution_count": 27,
     "metadata": {},
     "output_type": "execute_result"
    }
   ],
   "source": [
    "len(s2)"
   ]
  },
  {
   "cell_type": "code",
   "execution_count": 28,
   "metadata": {
    "colab": {
     "base_uri": "https://localhost:8080/",
     "height": 35
    },
    "colab_type": "code",
    "id": "wCijI6-vCEj6",
    "outputId": "b59118c9-6059-4002-d1aa-283b6761f5f4"
   },
   "outputs": [
    {
     "data": {
      "text/plain": [
       "{5, 6, 8, 'abc', 'ai', 'python'}"
      ]
     },
     "execution_count": 28,
     "metadata": {},
     "output_type": "execute_result"
    }
   ],
   "source": [
    "s2.add(\"ai\")\n",
    "s2"
   ]
  },
  {
   "cell_type": "code",
   "execution_count": 29,
   "metadata": {
    "colab": {
     "base_uri": "https://localhost:8080/",
     "height": 52
    },
    "colab_type": "code",
    "id": "tPq001PuCLO3",
    "outputId": "82b1466c-46b1-45f9-adc7-6b87b13c6763"
   },
   "outputs": [
    {
     "name": "stdout",
     "output_type": "stream",
     "text": [
      "{'python', 5, 6, 8, 'abc', 'ai'}\n"
     ]
    },
    {
     "data": {
      "text/plain": [
       "6"
      ]
     },
     "execution_count": 29,
     "metadata": {},
     "output_type": "execute_result"
    }
   ],
   "source": [
    "s2.add(\"ai\")\n",
    "print(s2)\n",
    "len(s2)"
   ]
  },
  {
   "cell_type": "code",
   "execution_count": 30,
   "metadata": {
    "colab": {
     "base_uri": "https://localhost:8080/",
     "height": 35
    },
    "colab_type": "code",
    "id": "EGZnvf9WCRYk",
    "outputId": "2d503674-8139-4afc-bbbb-da3515931d25"
   },
   "outputs": [
    {
     "name": "stdout",
     "output_type": "stream",
     "text": [
      "{'python', 5, 6, 8, 'abc'}\n"
     ]
    }
   ],
   "source": [
    "s2.remove(\"ai\")\n",
    "print(s2)"
   ]
  },
  {
   "cell_type": "code",
   "execution_count": 36,
   "metadata": {
    "colab": {
     "base_uri": "https://localhost:8080/",
     "height": 35
    },
    "colab_type": "code",
    "id": "wtZoskbUDQMN",
    "outputId": "effe7b2c-3db1-4a91-9e5e-99f0789e16cd"
   },
   "outputs": [
    {
     "name": "stdout",
     "output_type": "stream",
     "text": [
      "[0.0, 1.0, 1.4142135623730951, 1.7320508075688772, 2.0, 2.23606797749979, 2.449489742783178, 2.6457513110645907, 2.8284271247461903, 3.0]\n"
     ]
    }
   ],
   "source": [
    "from math import sqrt\n",
    "\n",
    "#import math\n",
    "\n",
    "print([sqrt(x) for x in list(range(10))])"
   ]
  },
  {
   "cell_type": "markdown",
   "metadata": {
    "colab_type": "text",
    "id": "sp_E8xAhG21y"
   },
   "source": [
    "# Demetler(Tuples)\n",
    "\n",
    "\n",
    "\n",
    "*   Sıralı veri yapısıdır, listeler gibi index değerine sahiptir, tüm veri tiplerini içerisinde barındırabilir. \n",
    "*   Listelerden farklı olarak, değiştirilemeyen bir yapıları vardır.Elimizde birden fazla değiştirilemez değerimiz var ise, bunları bir demet içinde toplayabiliriz.\n",
    "\n"
   ]
  },
  {
   "cell_type": "code",
   "execution_count": 167,
   "metadata": {
    "colab": {
     "base_uri": "https://localhost:8080/",
     "height": 52
    },
    "colab_type": "code",
    "id": "8Rui2302H8jD",
    "outputId": "c925805c-b8c6-48bd-ce59-62df117086be"
   },
   "outputs": [
    {
     "name": "stdout",
     "output_type": "stream",
     "text": [
      "(1, 2, 3, 4, 5)\n",
      "<class 'tuple'>\n"
     ]
    }
   ],
   "source": [
    "demet = (1,2,3,4,5)\n",
    "print(demet)\n",
    "print(type(demet))"
   ]
  },
  {
   "cell_type": "code",
   "execution_count": 168,
   "metadata": {
    "colab": {
     "base_uri": "https://localhost:8080/",
     "height": 35
    },
    "colab_type": "code",
    "id": "wZffTxPsIqqI",
    "outputId": "e043064f-a416-46bd-adcc-9f739ff992f9"
   },
   "outputs": [
    {
     "data": {
      "text/plain": [
       "tuple"
      ]
     },
     "execution_count": 168,
     "metadata": {
      "tags": []
     },
     "output_type": "execute_result"
    }
   ],
   "source": [
    "demet2 = ()  #boş bir listeyi de, liste = [] olarak tanımlayabiliyorduk.\n",
    "type(demet2)"
   ]
  },
  {
   "cell_type": "code",
   "execution_count": 169,
   "metadata": {
    "colab": {
     "base_uri": "https://localhost:8080/",
     "height": 35
    },
    "colab_type": "code",
    "id": "IrvB1HzGLYBZ",
    "outputId": "dab4ddd5-3799-493f-c314-8f71b67320b8"
   },
   "outputs": [
    {
     "name": "stdout",
     "output_type": "stream",
     "text": [
      "4\n"
     ]
    }
   ],
   "source": [
    "print(demet[3])"
   ]
  },
  {
   "cell_type": "code",
   "execution_count": 170,
   "metadata": {
    "colab": {
     "base_uri": "https://localhost:8080/",
     "height": 35
    },
    "colab_type": "code",
    "id": "y_9FkBJORo5y",
    "outputId": "ec7d4abf-777d-4363-c014-9b5ed5c69101"
   },
   "outputs": [
    {
     "data": {
      "text/plain": [
       "4"
      ]
     },
     "execution_count": 170,
     "metadata": {
      "tags": []
     },
     "output_type": "execute_result"
    }
   ],
   "source": [
    "demet[-2]"
   ]
  },
  {
   "cell_type": "code",
   "execution_count": 171,
   "metadata": {
    "colab": {
     "base_uri": "https://localhost:8080/",
     "height": 35
    },
    "colab_type": "code",
    "id": "ZPMFZi-qRs4a",
    "outputId": "7b3703ec-141d-4ba4-9a4c-d48e3c9ce5d6"
   },
   "outputs": [
    {
     "data": {
      "text/plain": [
       "(1, 2, 3, 4)"
      ]
     },
     "execution_count": 171,
     "metadata": {
      "tags": []
     },
     "output_type": "execute_result"
    }
   ],
   "source": [
    "demet[:4]"
   ]
  },
  {
   "cell_type": "code",
   "execution_count": 172,
   "metadata": {
    "colab": {
     "base_uri": "https://localhost:8080/",
     "height": 35
    },
    "colab_type": "code",
    "id": "TeT5RXH1R6Gv",
    "outputId": "94499c40-f15e-4f5d-8c59-f68470a8ca10"
   },
   "outputs": [
    {
     "data": {
      "text/plain": [
       "3"
      ]
     },
     "execution_count": 172,
     "metadata": {
      "tags": []
     },
     "output_type": "execute_result"
    }
   ],
   "source": [
    "dm3 = (\"gizem\", 5, 8, \"eylul\")\n",
    "dm3.index(\"eylul\")"
   ]
  },
  {
   "cell_type": "code",
   "execution_count": 173,
   "metadata": {
    "colab": {
     "base_uri": "https://localhost:8080/",
     "height": 35
    },
    "colab_type": "code",
    "id": "wRks9wXwSRhJ",
    "outputId": "03b8bf14-973e-4413-c16d-60b29f14d26e"
   },
   "outputs": [
    {
     "data": {
      "text/plain": [
       "1"
      ]
     },
     "execution_count": 173,
     "metadata": {
      "tags": []
     },
     "output_type": "execute_result"
    }
   ],
   "source": [
    "dm3.count(5)"
   ]
  },
  {
   "cell_type": "code",
   "execution_count": 13,
   "metadata": {
    "colab": {
     "base_uri": "https://localhost:8080/",
     "height": 239
    },
    "colab_type": "code",
    "id": "Bo_JC5jkSWMf",
    "outputId": "c8777e9c-074f-42d5-9e72-bf7c154eb653"
   },
   "outputs": [
    {
     "ename": "TypeError",
     "evalue": "'tuple' object does not support item assignment",
     "output_type": "error",
     "traceback": [
      "\u001b[0;31m---------------------------------------------------------------------------\u001b[0m",
      "\u001b[0;31mTypeError\u001b[0m                                 Traceback (most recent call last)",
      "\u001b[0;32m<ipython-input-13-0ea4e2bfcadd>\u001b[0m in \u001b[0;36m<module>\u001b[0;34m\u001b[0m\n\u001b[1;32m      1\u001b[0m \u001b[0mdm4\u001b[0m \u001b[0;34m=\u001b[0m \u001b[0;34m(\u001b[0m\u001b[0;34m\"elma\"\u001b[0m\u001b[0;34m,\u001b[0m\u001b[0;34m\"armut\"\u001b[0m\u001b[0;34m,\u001b[0m\u001b[0;34m\"çilek\"\u001b[0m\u001b[0;34m)\u001b[0m\u001b[0;34m\u001b[0m\u001b[0;34m\u001b[0m\u001b[0m\n\u001b[1;32m      2\u001b[0m \u001b[0;34m\u001b[0m\u001b[0m\n\u001b[0;32m----> 3\u001b[0;31m \u001b[0mdm4\u001b[0m\u001b[0;34m[\u001b[0m\u001b[0;36m0\u001b[0m\u001b[0;34m]\u001b[0m \u001b[0;34m=\u001b[0m \u001b[0;34m\"kiraz\"\u001b[0m\u001b[0;34m\u001b[0m\u001b[0;34m\u001b[0m\u001b[0m\n\u001b[0m",
      "\u001b[0;31mTypeError\u001b[0m: 'tuple' object does not support item assignment"
     ]
    }
   ],
   "source": [
    "dm4 = (\"elma\",\"armut\",\"çilek\")\n",
    "\n",
    "dm4[0] = \"kiraz\""
   ]
  },
  {
   "cell_type": "code",
   "execution_count": 175,
   "metadata": {
    "colab": {
     "base_uri": "https://localhost:8080/",
     "height": 168
    },
    "colab_type": "code",
    "id": "twLyvUivSoBr",
    "outputId": "492c221c-2c88-4774-b16d-7f3040ccaa70"
   },
   "outputs": [
    {
     "ename": "AttributeError",
     "evalue": "ignored",
     "output_type": "error",
     "traceback": [
      "\u001b[0;31m---------------------------------------------------------------------------\u001b[0m",
      "\u001b[0;31mAttributeError\u001b[0m                            Traceback (most recent call last)",
      "\u001b[0;32m<ipython-input-175-85e9113c16c3>\u001b[0m in \u001b[0;36m<module>\u001b[0;34m()\u001b[0m\n\u001b[0;32m----> 1\u001b[0;31m \u001b[0mdm4\u001b[0m\u001b[0;34m.\u001b[0m\u001b[0mremove\u001b[0m\u001b[0;34m(\u001b[0m\u001b[0;34m\"armut\"\u001b[0m\u001b[0;34m)\u001b[0m\u001b[0;34m\u001b[0m\u001b[0;34m\u001b[0m\u001b[0m\n\u001b[0m",
      "\u001b[0;31mAttributeError\u001b[0m: 'tuple' object has no attribute 'remove'"
     ]
    }
   ],
   "source": [
    "dm4.remove(\"armut\")"
   ]
  }
 ],
 "metadata": {
  "colab": {
   "collapsed_sections": [],
   "name": "Day-4.ipynb",
   "provenance": []
  },
  "kernelspec": {
   "display_name": "Python 3",
   "language": "python",
   "name": "python3"
  }
 },
 "nbformat": 4,
 "nbformat_minor": 1
}
